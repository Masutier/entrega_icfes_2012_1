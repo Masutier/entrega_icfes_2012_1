{
 "cells": [
  {
   "cell_type": "code",
   "execution_count": 62,
   "id": "91f27408",
   "metadata": {
    "collapsed": true
   },
   "outputs": [
    {
     "name": "stdout",
     "output_type": "stream",
     "text": [
      "Defaulting to user installation because normal site-packages is not writeable\n",
      "Collecting dtale\n",
      "  Downloading dtale-2.16.0-py2.py3-none-any.whl (14.0 MB)\n",
      "\u001b[2K     \u001b[38;2;114;156;31m━━━━━━━━━━━━━━━━━━━━━━━━━━━━━━━━━━━━━━━━\u001b[0m \u001b[32m14.0/14.0 MB\u001b[0m \u001b[31m11.5 MB/s\u001b[0m eta \u001b[36m0:00:00\u001b[0mm eta \u001b[36m0:00:01\u001b[0m0:01\u001b[0m:01\u001b[0m\n",
      "\u001b[?25hCollecting dash-colorscales (from dtale)\n",
      "  Downloading dash_colorscales-0.0.4.tar.gz (62 kB)\n",
      "\u001b[2K     \u001b[38;2;114;156;31m━━━━━━━━━━━━━━━━━━━━━━━━━━━━━━━━━━━━━━━━\u001b[0m \u001b[32m62.3/62.3 kB\u001b[0m \u001b[31m1.0 MB/s\u001b[0m eta \u001b[36m0:00:00\u001b[0m\u001b[36m0:00:01\u001b[0m\n",
      "\u001b[?25h  Preparing metadata (setup.py) ... \u001b[?25ldone\n",
      "\u001b[?25hCollecting dash-daq (from dtale)\n",
      "  Downloading dash_daq-0.5.0.tar.gz (642 kB)\n",
      "\u001b[2K     \u001b[38;2;114;156;31m━━━━━━━━━━━━━━━━━━━━━━━━━━━━━━━━━━━━━━━\u001b[0m \u001b[32m642.7/642.7 kB\u001b[0m \u001b[31m3.3 MB/s\u001b[0m eta \u001b[36m0:00:00\u001b[0mm eta \u001b[36m0:00:01\u001b[0m\n",
      "\u001b[?25h  Preparing metadata (setup.py) ... \u001b[?25ldone\n",
      "\u001b[?25hCollecting Flask-Compress (from dtale)\n",
      "  Downloading Flask_Compress-1.13-py3-none-any.whl (7.9 kB)\n",
      "Collecting future>=0.14.0 (from dtale)\n",
      "  Downloading future-0.18.3.tar.gz (840 kB)\n",
      "\u001b[2K     \u001b[38;2;114;156;31m━━━━━━━━━━━━━━━━━━━━━━━━━━━━━━━━━━━━━━━\u001b[0m \u001b[32m840.9/840.9 kB\u001b[0m \u001b[31m5.4 MB/s\u001b[0m eta \u001b[36m0:00:00\u001b[0mm eta \u001b[36m0:00:01\u001b[0m\n",
      "\u001b[?25h  Preparing metadata (setup.py) ... \u001b[?25ldone\n",
      "\u001b[?25hCollecting kaleido (from dtale)\n",
      "  Downloading kaleido-0.2.1-py2.py3-none-manylinux1_x86_64.whl (79.9 MB)\n",
      "\u001b[2K     \u001b[38;2;114;156;31m━━━━━━━━━━━━━━━━━━━━━━━━━━━━━━━━━━━━━━━━\u001b[0m \u001b[32m79.9/79.9 MB\u001b[0m \u001b[31m6.4 MB/s\u001b[0m eta \u001b[36m0:00:00\u001b[0m0m eta \u001b[36m0:00:01\u001b[0m[36m0:00:01\u001b[0m\n",
      "\u001b[?25hCollecting missingno<=0.4.2 (from dtale)\n",
      "  Downloading missingno-0.4.2-py3-none-any.whl (9.7 kB)\n",
      "Requirement already satisfied: pandas in /home/gabriel/.local/lib/python3.9/site-packages (from dtale) (1.5.3)\n",
      "Collecting squarify (from dtale)\n",
      "  Downloading squarify-0.4.3-py3-none-any.whl (4.3 kB)\n",
      "Collecting strsimpy (from dtale)\n",
      "  Downloading strsimpy-0.2.1-py3-none-any.whl (45 kB)\n",
      "\u001b[2K     \u001b[38;2;114;156;31m━━━━━━━━━━━━━━━━━━━━━━━━━━━━━━━━━━━━━━━\u001b[0m \u001b[32m45.9/45.9 kB\u001b[0m \u001b[31m671.1 kB/s\u001b[0m eta \u001b[36m0:00:00\u001b[0m31m99.7 MB/s\u001b[0m eta \u001b[36m0:00:01\u001b[0m\n",
      "\u001b[?25hRequirement already satisfied: six in /usr/lib/python3/dist-packages (from dtale) (1.16.0)\n",
      "Collecting xlrd (from dtale)\n",
      "  Downloading xlrd-2.0.1-py2.py3-none-any.whl (96 kB)\n",
      "\u001b[2K     \u001b[38;2;114;156;31m━━━━━━━━━━━━━━━━━━━━━━━━━━━━━━━━━━━━━━━\u001b[0m \u001b[32m96.5/96.5 kB\u001b[0m \u001b[31m273.1 kB/s\u001b[0m eta \u001b[36m0:00:00\u001b[0m MB/s\u001b[0m eta \u001b[36m0:00:01\u001b[0m\n",
      "\u001b[?25hCollecting matplotlib<=3.6.0 (from dtale)\n",
      "  Downloading matplotlib-3.6.0-cp39-cp39-manylinux_2_17_x86_64.manylinux2014_x86_64.whl (11.8 MB)\n",
      "\u001b[2K     \u001b[38;2;114;156;31m━━━━━━━━━━━━━━━━━━━━━━━━━━━━━━━━━━━━━━━━\u001b[0m \u001b[32m11.8/11.8 MB\u001b[0m \u001b[31m13.7 MB/s\u001b[0m eta \u001b[36m0:00:00\u001b[0mm eta \u001b[36m0:00:01\u001b[0m0:01\u001b[0m:01\u001b[0m\n",
      "\u001b[?25hRequirement already satisfied: beautifulsoup4 in /home/gabriel/.local/lib/python3.9/site-packages (from dtale) (4.12.2)\n",
      "Requirement already satisfied: certifi in /usr/lib/python3/dist-packages (from dtale) (2020.6.20)\n",
      "Requirement already satisfied: cycler in /home/gabriel/.local/lib/python3.9/site-packages (from dtale) (0.11.0)\n",
      "Collecting flask-ngrok (from dtale)\n",
      "  Downloading flask_ngrok-0.0.25-py3-none-any.whl (3.1 kB)\n",
      "Collecting lz4 (from dtale)\n",
      "  Downloading lz4-4.3.2-cp39-cp39-manylinux_2_17_x86_64.manylinux2014_x86_64.whl (1.3 MB)\n",
      "\u001b[2K     \u001b[38;2;114;156;31m━━━━━━━━━━━━━━━━━━━━━━━━━━━━━━━━━━━━━━━━\u001b[0m \u001b[32m1.3/1.3 MB\u001b[0m \u001b[31m6.1 MB/s\u001b[0m eta \u001b[36m0:00:00\u001b[0m0m eta \u001b[36m0:00:01\u001b[0m[36m0:00:01\u001b[0m\n",
      "\u001b[?25hCollecting dash-bootstrap-components<=1.3.1 (from dtale)\n",
      "  Downloading dash_bootstrap_components-1.3.1-py3-none-any.whl (219 kB)\n",
      "\u001b[2K     \u001b[38;2;114;156;31m━━━━━━━━━━━━━━━━━━━━━━━━━━━━━━━━━━━━━━━\u001b[0m \u001b[32m219.7/219.7 kB\u001b[0m \u001b[31m1.3 MB/s\u001b[0m eta \u001b[36m0:00:00\u001b[0m[36m0:00:01\u001b[0m\n",
      "\u001b[?25hRequirement already satisfied: seaborn in /home/gabriel/.local/lib/python3.9/site-packages (from dtale) (0.12.2)\n",
      "Requirement already satisfied: networkx in /home/gabriel/.local/lib/python3.9/site-packages (from dtale) (3.1)\n",
      "Collecting scikit-learn (from dtale)\n",
      "  Downloading scikit_learn-1.2.2-cp39-cp39-manylinux_2_17_x86_64.manylinux2014_x86_64.whl (9.6 MB)\n",
      "\u001b[2K     \u001b[38;2;114;156;31m━━━━━━━━━━━━━━━━━━━━━━━━━━━━━━━━━━━━━━━━\u001b[0m \u001b[32m9.6/9.6 MB\u001b[0m \u001b[31m13.8 MB/s\u001b[0m eta \u001b[36m0:00:00\u001b[0mm eta \u001b[36m0:00:01\u001b[0m0:01\u001b[0m:01\u001b[0m\n",
      "\u001b[?25hRequirement already satisfied: statsmodels in /home/gabriel/.local/lib/python3.9/site-packages (from dtale) (0.14.0)\n",
      "Requirement already satisfied: numpy in /home/gabriel/.local/lib/python3.9/site-packages (from dtale) (1.23.5)\n",
      "Collecting openpyxl!=3.2.0b1 (from dtale)\n",
      "  Using cached openpyxl-3.1.2-py2.py3-none-any.whl (249 kB)\n",
      "Collecting xarray (from dtale)\n",
      "  Downloading xarray-2023.5.0-py3-none-any.whl (994 kB)\n",
      "\u001b[2K     \u001b[38;2;114;156;31m━━━━━━━━━━━━━━━━━━━━━━━━━━━━━━━━━━━━━━━\u001b[0m \u001b[32m994.3/994.3 kB\u001b[0m \u001b[31m7.0 MB/s\u001b[0m eta \u001b[36m0:00:00\u001b[0mm eta \u001b[36m0:00:01\u001b[0m[36m0:00:01\u001b[0m\n",
      "\u001b[?25hCollecting dash (from dtale)\n",
      "  Downloading dash-2.10.2-py3-none-any.whl (10.3 MB)\n",
      "\u001b[2K     \u001b[38;2;114;156;31m━━━━━━━━━━━━━━━━━━━━━━━━━━━━━━━━━━━━━━━━\u001b[0m \u001b[32m10.3/10.3 MB\u001b[0m \u001b[31m13.8 MB/s\u001b[0m eta \u001b[36m0:00:00\u001b[0mm eta \u001b[36m0:00:01\u001b[0m[36m0:00:01\u001b[0m\n",
      "\u001b[?25hCollecting et-xmlfile (from dtale)\n",
      "  Using cached et_xmlfile-1.1.0-py3-none-any.whl (4.7 kB)\n",
      "Collecting plotly (from dtale)\n",
      "  Downloading plotly-5.14.1-py2.py3-none-any.whl (15.3 MB)\n",
      "\u001b[2K     \u001b[38;2;114;156;31m━━━━━━━━━━━━━━━━━━━━━━━━━━━━━━━━━━━━━━━━\u001b[0m \u001b[32m15.3/15.3 MB\u001b[0m \u001b[31m12.2 MB/s\u001b[0m eta \u001b[36m0:00:00\u001b[0mm eta \u001b[36m0:00:01\u001b[0m[36m0:00:01\u001b[0m\n",
      "\u001b[?25hRequirement already satisfied: itsdangerous in /home/gabriel/.local/lib/python3.9/site-packages (from dtale) (2.1.2)\n",
      "Requirement already satisfied: requests in /usr/lib/python3/dist-packages (from dtale) (2.25.1)\n",
      "Requirement already satisfied: Flask in /home/gabriel/.local/lib/python3.9/site-packages (from dtale) (2.2.3)\n",
      "Collecting scipy<=1.9.3 (from dtale)\n",
      "  Downloading scipy-1.9.3-cp39-cp39-manylinux_2_17_x86_64.manylinux2014_x86_64.whl (33.8 MB)\n",
      "\u001b[2K     \u001b[38;2;114;156;31m━━━━━━━━━━━━━━━━━━━━━━━━━━━━━━━━━━━━━━━━\u001b[0m \u001b[32m33.8/33.8 MB\u001b[0m \u001b[31m8.5 MB/s\u001b[0m eta \u001b[36m0:00:00\u001b[0m0m eta \u001b[36m0:00:01\u001b[0m0:01\u001b[0m:01\u001b[0m\n",
      "\u001b[?25hRequirement already satisfied: Werkzeug<2.3.0 in /home/gabriel/.local/lib/python3.9/site-packages (from dash->dtale) (2.2.3)\n",
      "Collecting dash-html-components==2.0.0 (from dash->dtale)\n",
      "  Downloading dash_html_components-2.0.0-py3-none-any.whl (4.1 kB)\n",
      "Collecting dash-core-components==2.0.0 (from dash->dtale)\n",
      "  Downloading dash_core_components-2.0.0-py3-none-any.whl (3.8 kB)\n",
      "Collecting dash-table==5.0.0 (from dash->dtale)\n",
      "  Downloading dash_table-5.0.0-py3-none-any.whl (3.9 kB)\n",
      "Requirement already satisfied: Jinja2>=3.0 in /home/gabriel/.local/lib/python3.9/site-packages (from Flask->dtale) (3.1.2)\n",
      "Requirement already satisfied: click>=8.0 in /home/gabriel/.local/lib/python3.9/site-packages (from Flask->dtale) (8.1.3)\n",
      "Requirement already satisfied: importlib-metadata>=3.6.0 in /home/gabriel/.local/lib/python3.9/site-packages (from Flask->dtale) (6.0.0)\n",
      "Requirement already satisfied: contourpy>=1.0.1 in /home/gabriel/.local/lib/python3.9/site-packages (from matplotlib<=3.6.0->dtale) (1.0.7)\n",
      "Requirement already satisfied: fonttools>=4.22.0 in /home/gabriel/.local/lib/python3.9/site-packages (from matplotlib<=3.6.0->dtale) (4.39.4)\n",
      "Requirement already satisfied: kiwisolver>=1.0.1 in /home/gabriel/.local/lib/python3.9/site-packages (from matplotlib<=3.6.0->dtale) (1.4.4)\n",
      "Requirement already satisfied: packaging>=20.0 in /home/gabriel/.local/lib/python3.9/site-packages (from matplotlib<=3.6.0->dtale) (23.1)\n",
      "Requirement already satisfied: pillow>=6.2.0 in /home/gabriel/.local/lib/python3.9/site-packages (from matplotlib<=3.6.0->dtale) (9.5.0)\n",
      "Requirement already satisfied: pyparsing>=2.2.1 in /home/gabriel/.local/lib/python3.9/site-packages (from matplotlib<=3.6.0->dtale) (3.0.9)\n",
      "Requirement already satisfied: python-dateutil>=2.7 in /home/gabriel/.local/lib/python3.9/site-packages (from matplotlib<=3.6.0->dtale) (2.8.2)\n",
      "Collecting tenacity>=6.2.0 (from plotly->dtale)\n",
      "  Downloading tenacity-8.2.2-py3-none-any.whl (24 kB)\n",
      "Requirement already satisfied: soupsieve>1.2 in /home/gabriel/.local/lib/python3.9/site-packages (from beautifulsoup4->dtale) (2.4.1)\n"
     ]
    },
    {
     "name": "stdout",
     "output_type": "stream",
     "text": [
      "Collecting brotli (from Flask-Compress->dtale)\n",
      "  Downloading Brotli-1.0.9-cp39-cp39-manylinux1_x86_64.whl (357 kB)\n",
      "\u001b[2K     \u001b[38;2;114;156;31m━━━━━━━━━━━━━━━━━━━━━━━━━━━━━━━━━━━━━━━\u001b[0m \u001b[32m357.2/357.2 kB\u001b[0m \u001b[31m2.5 MB/s\u001b[0m eta \u001b[36m0:00:00\u001b[0m[36m0:00:01\u001b[0m\n",
      "\u001b[?25hRequirement already satisfied: pytz>=2020.1 in /home/gabriel/.local/lib/python3.9/site-packages (from pandas->dtale) (2023.3)\n",
      "Requirement already satisfied: joblib>=1.1.1 in /home/gabriel/.local/lib/python3.9/site-packages (from scikit-learn->dtale) (1.2.0)\n",
      "Collecting threadpoolctl>=2.0.0 (from scikit-learn->dtale)\n",
      "  Downloading threadpoolctl-3.1.0-py3-none-any.whl (14 kB)\n",
      "Requirement already satisfied: patsy>=0.5.2 in /home/gabriel/.local/lib/python3.9/site-packages (from statsmodels->dtale) (0.5.3)\n",
      "Requirement already satisfied: zipp>=0.5 in /home/gabriel/.local/lib/python3.9/site-packages (from importlib-metadata>=3.6.0->Flask->dtale) (3.15.0)\n",
      "Requirement already satisfied: MarkupSafe>=2.0 in /home/gabriel/.local/lib/python3.9/site-packages (from Jinja2>=3.0->Flask->dtale) (2.1.2)\n",
      "Building wheels for collected packages: future, dash-colorscales, dash-daq\n",
      "  Building wheel for future (setup.py) ... \u001b[?25ldone\n",
      "\u001b[?25h  Created wheel for future: filename=future-0.18.3-py3-none-any.whl size=492025 sha256=84deb8fbc27aa560ab94cdd46a078b9b219e5e62e900b315e645775cc2fa29cf\n",
      "  Stored in directory: /home/gabriel/.cache/pip/wheels/bf/5d/6a/2e53874f7ec4e2bede522385439531fafec8fafe005b5c3d1b\n",
      "  Building wheel for dash-colorscales (setup.py) ... \u001b[?25ldone\n",
      "\u001b[?25h  Created wheel for dash-colorscales: filename=dash_colorscales-0.0.4-py3-none-any.whl size=62597 sha256=bd90601f648f13908e27947021f66e89a53bd7a5845dfda82ee9476ebf6947b8\n",
      "  Stored in directory: /home/gabriel/.cache/pip/wheels/ec/32/ec/dc8a1aa820182edf280a5e26c76fc9493ae29e196735708de2\n",
      "  Building wheel for dash-daq (setup.py) ... \u001b[?25ldone\n",
      "\u001b[?25h  Created wheel for dash-daq: filename=dash_daq-0.5.0-py3-none-any.whl size=669702 sha256=920b63351c6b5a444cf264c16b0007414b2799914096298402750d4d15b523c9\n",
      "  Stored in directory: /home/gabriel/.cache/pip/wheels/53/73/ea/8a422aab5cab848d88653ed3087c1fa05553c3fbd67fb6ab75\n",
      "Successfully built future dash-colorscales dash-daq\n",
      "Installing collected packages: strsimpy, squarify, kaleido, dash-table, dash-html-components, dash-core-components, dash-colorscales, brotli, xlrd, threadpoolctl, tenacity, scipy, lz4, future, et-xmlfile, scikit-learn, plotly, openpyxl, matplotlib, xarray, flask-ngrok, Flask-Compress, dash, missingno, dash-daq, dash-bootstrap-components, dtale\n",
      "  Attempting uninstall: scipy\n",
      "    Found existing installation: scipy 1.10.1\n",
      "    Uninstalling scipy-1.10.1:\n",
      "      Successfully uninstalled scipy-1.10.1\n",
      "  Attempting uninstall: matplotlib\n",
      "    Found existing installation: matplotlib 3.7.1\n",
      "    Uninstalling matplotlib-3.7.1:\n",
      "      Successfully uninstalled matplotlib-3.7.1\n",
      "Successfully installed Flask-Compress-1.13 brotli-1.0.9 dash-2.10.2 dash-bootstrap-components-1.3.1 dash-colorscales-0.0.4 dash-core-components-2.0.0 dash-daq-0.5.0 dash-html-components-2.0.0 dash-table-5.0.0 dtale-2.16.0 et-xmlfile-1.1.0 flask-ngrok-0.0.25 future-0.18.3 kaleido-0.2.1 lz4-4.3.2 matplotlib-3.6.0 missingno-0.4.2 openpyxl-3.1.2 plotly-5.14.1 scikit-learn-1.2.2 scipy-1.9.3 squarify-0.4.3 strsimpy-0.2.1 tenacity-8.2.2 threadpoolctl-3.1.0 xarray-2023.5.0 xlrd-2.0.1\n"
     ]
    }
   ],
   "source": [
    "#!pip install dtale\n"
   ]
  },
  {
   "cell_type": "code",
   "execution_count": 1,
   "id": "8837d13d",
   "metadata": {},
   "outputs": [],
   "source": [
    "import os\n",
    "import csv\n",
    "import dtale\n",
    "import pandas as pd\n",
    "import ydata_profiling\n",
    "from datetime import datetime, timedelta\n",
    "from dateutil import relativedelta"
   ]
  },
  {
   "cell_type": "code",
   "execution_count": 2,
   "id": "6d848f03",
   "metadata": {},
   "outputs": [],
   "source": [
    "data = pd.read_csv('/home/gabriel/prog/dataAnalytics/entrega_icfes_2012_1/DMs/TH_SB11_2012_1.csv', low_memory=False)"
   ]
  },
  {
   "cell_type": "code",
   "execution_count": 3,
   "id": "decae0ca",
   "metadata": {},
   "outputs": [
    {
     "data": {
      "text/html": [
       "\n",
       "        <iframe\n",
       "            width=\"100%\"\n",
       "            height=\"475\"\n",
       "            src=\"http://gabriel:40000/dtale/iframe/1\"\n",
       "            frameborder=\"0\"\n",
       "            allowfullscreen\n",
       "            \n",
       "        ></iframe>\n",
       "        "
      ],
      "text/plain": [
       "<IPython.lib.display.IFrame at 0x7f61f4409e10>"
      ]
     },
     "metadata": {},
     "output_type": "display_data"
    },
    {
     "data": {
      "text/plain": []
     },
     "execution_count": 3,
     "metadata": {},
     "output_type": "execute_result"
    }
   ],
   "source": [
    "d = dtale.show(data)\n",
    "d"
   ]
  },
  {
   "cell_type": "code",
   "execution_count": 4,
   "id": "dcac9aea",
   "metadata": {},
   "outputs": [],
   "source": [
    "data = pd.read_csv('./docs/SB11-20121-RGSTRO-CLFCCN-V1-0-txt.csv', low_memory=False)"
   ]
  },
  {
   "cell_type": "code",
   "execution_count": null,
   "id": "ce351ba4",
   "metadata": {},
   "outputs": [],
   "source": [
    "# ****************************  ELIMINAR COLUMNAS Q NO SE VAN A USAR\n",
    "columnsrem = ['ESTU_TIPO_DOCUMENTO', 'ESTU_PAIS_RESIDE', 'ESTU_GENERO', 'ESTU_NACIMIENTO_DIA', 'ESTU_NACIMIENTO_MES', 'ESTU_NACIMIENTO_ANNO', 'ESTU_EDAD', 'FECHA_ANO', 'EDAD', 'ESTU_ETNIA', 'ESTU_COD_RESIDE_MCPIO', 'ESTU_RESIDE_MCPIO', 'ESTU_RESIDE_DEPTO', 'COLE_GENERO', 'COLE_NATURALEZA', 'COLE_BILINGUE', 'COLE_CARACTER', 'PUNT_INGLES', 'DESEMP_INGLES', 'ESTU_PUESTO']\n",
    "\n",
    "for column in data.columns:\n",
    "    if column not in columnsrem:\n",
    "        data.drop([column], axis=1, inplace=True)\n",
    "        data.to_csv('./DMs/SB11_2012_1.csv', index = False)\n"
   ]
  },
  {
   "cell_type": "code",
   "execution_count": null,
   "id": "48e5fd7b",
   "metadata": {},
   "outputs": [],
   "source": [
    "data.dtypes"
   ]
  },
  {
   "cell_type": "code",
   "execution_count": 86,
   "id": "88a0b05a",
   "metadata": {},
   "outputs": [
    {
     "name": "stdout",
     "output_type": "stream",
     "text": [
      "(45390, 20)\n",
      "Columna ESTU_TIPO_DOCUMENTO: 7 subniveles\n",
      "Columna ESTU_PAIS_RESIDE: 21 subniveles\n",
      "Columna ESTU_GENERO: 3 subniveles\n",
      "Columna ESTU_NACIMIENTO_DIA: 31 subniveles\n",
      "Columna ESTU_NACIMIENTO_MES: 12 subniveles\n",
      "Columna ESTU_NACIMIENTO_ANNO: 66 subniveles\n",
      "Columna ESTU_EDAD: 62 subniveles\n",
      "Columna FECHA_ANO: 4242 subniveles\n",
      "Columna EDAD: 32 subniveles\n",
      "Columna ESTU_ETNIA: 18 subniveles\n",
      "Columna ESTU_COD_RESIDE_MCPIO: 938 subniveles\n",
      "Columna ESTU_RESIDE_MCPIO: 875 subniveles\n",
      "Columna ESTU_RESIDE_DEPTO: 33 subniveles\n",
      "Columna COLE_GENERO: 3 subniveles\n",
      "Columna COLE_NATURALEZA: 2 subniveles\n",
      "Columna COLE_BILINGUE: 2 subniveles\n",
      "Columna COLE_CARACTER: 5 subniveles\n",
      "Columna PUNT_INGLES: 46 subniveles\n",
      "Columna DESEMP_INGLES: 5 subniveles\n",
      "Columna ESTU_PUESTO: 1000 subniveles\n"
     ]
    }
   ],
   "source": [
    "data = pd.read_csv('./DMs/SB11_2012_1.csv', low_memory=False)\n",
    "print(data.shape)\n",
    "for col in data.columns:\n",
    "    print(f'Columna {col}: {data[col].nunique()} subniveles')"
   ]
  },
  {
   "cell_type": "code",
   "execution_count": 87,
   "id": "013a0c5c",
   "metadata": {},
   "outputs": [
    {
     "name": "stderr",
     "output_type": "stream",
     "text": [
      "/home/gabriel/.local/lib/python3.9/site-packages/dtale/views.py:756: FutureWarning:\n",
      "\n",
      "['ESTU_TIPO_DOCUMENTO', 'ESTU_PAIS_RESIDE', 'FECHA_ANO', 'ESTU_RESIDE_MCPIO', 'ESTU_RESIDE_DEPTO', 'COLE_GENERO', 'COLE_NATURALEZA', 'COLE_CARACTER', 'DESEMP_INGLES'] did not aggregate successfully. If any error is raised this will raise in a future version of pandas. Drop these columns/ops to avoid this warning.\n",
      "\n"
     ]
    },
    {
     "data": {
      "text/html": [
       "\n",
       "        <iframe\n",
       "            width=\"100%\"\n",
       "            height=\"475\"\n",
       "            src=\"http://debian222:40000/dtale/iframe/2\"\n",
       "            frameborder=\"0\"\n",
       "            allowfullscreen\n",
       "            \n",
       "        ></iframe>\n",
       "        "
      ],
      "text/plain": [
       "<IPython.lib.display.IFrame at 0x7ffb8c48ec70>"
      ]
     },
     "metadata": {},
     "output_type": "display_data"
    },
    {
     "data": {
      "text/plain": []
     },
     "execution_count": 87,
     "metadata": {},
     "output_type": "execute_result"
    },
    {
     "name": "stderr",
     "output_type": "stream",
     "text": [
      "/home/gabriel/.local/lib/python3.9/site-packages/dtale/views.py:2010: FutureWarning:\n",
      "\n",
      "The default value of regex will change from True to False in a future version.\n",
      "\n",
      "2023-06-07 19:07:38,055 - INFO     - Executing shutdown due to inactivity...\n",
      "2023-06-07 19:07:38,069 - INFO     - Executing shutdown...\n",
      "2023-06-07 19:07:38,071 - ERROR    - Exception on /shutdown [GET]\n",
      "Traceback (most recent call last):\n",
      "  File \"/home/gabriel/.local/lib/python3.9/site-packages/flask/app.py\", line 2528, in wsgi_app\n",
      "    response = self.full_dispatch_request()\n",
      "  File \"/home/gabriel/.local/lib/python3.9/site-packages/flask/app.py\", line 1825, in full_dispatch_request\n",
      "    rv = self.handle_user_exception(e)\n",
      "  File \"/home/gabriel/.local/lib/python3.9/site-packages/flask/app.py\", line 1823, in full_dispatch_request\n",
      "    rv = self.dispatch_request()\n",
      "  File \"/home/gabriel/.local/lib/python3.9/site-packages/flask/app.py\", line 1799, in dispatch_request\n",
      "    return self.ensure_sync(self.view_functions[rule.endpoint])(**view_args)\n",
      "  File \"/home/gabriel/.local/lib/python3.9/site-packages/dtale/app.py\", line 438, in shutdown\n",
      "    shutdown_server()\n",
      "  File \"/home/gabriel/.local/lib/python3.9/site-packages/dtale/app.py\", line 424, in shutdown_server\n",
      "    raise RuntimeError(\"Not running with the Werkzeug Server\")\n",
      "RuntimeError: Not running with the Werkzeug Server\n"
     ]
    }
   ],
   "source": [
    "d = dtale.show(data)\n",
    "d"
   ]
  },
  {
   "cell_type": "code",
   "execution_count": 67,
   "id": "82c62419",
   "metadata": {},
   "outputs": [
    {
     "data": {
      "text/html": [
       "<div>\n",
       "<style scoped>\n",
       "    .dataframe tbody tr th:only-of-type {\n",
       "        vertical-align: middle;\n",
       "    }\n",
       "\n",
       "    .dataframe tbody tr th {\n",
       "        vertical-align: top;\n",
       "    }\n",
       "\n",
       "    .dataframe thead th {\n",
       "        text-align: right;\n",
       "    }\n",
       "</style>\n",
       "<table border=\"1\" class=\"dataframe\">\n",
       "  <thead>\n",
       "    <tr style=\"text-align: right;\">\n",
       "      <th></th>\n",
       "      <th>NOMBRE</th>\n",
       "    </tr>\n",
       "    <tr>\n",
       "      <th>IDTDOC</th>\n",
       "      <th></th>\n",
       "    </tr>\n",
       "  </thead>\n",
       "  <tbody>\n",
       "    <tr>\n",
       "      <th>1</th>\n",
       "      <td>C</td>\n",
       "    </tr>\n",
       "    <tr>\n",
       "      <th>2</th>\n",
       "      <td>E</td>\n",
       "    </tr>\n",
       "    <tr>\n",
       "      <th>3</th>\n",
       "      <td>P</td>\n",
       "    </tr>\n",
       "    <tr>\n",
       "      <th>4</th>\n",
       "      <td>Q</td>\n",
       "    </tr>\n",
       "    <tr>\n",
       "      <th>5</th>\n",
       "      <td>R</td>\n",
       "    </tr>\n",
       "    <tr>\n",
       "      <th>6</th>\n",
       "      <td>T</td>\n",
       "    </tr>\n",
       "    <tr>\n",
       "      <th>7</th>\n",
       "      <td>V</td>\n",
       "    </tr>\n",
       "    <tr>\n",
       "      <th>8</th>\n",
       "      <td>NA</td>\n",
       "    </tr>\n",
       "  </tbody>\n",
       "</table>\n",
       "</div>"
      ],
      "text/plain": [
       "       NOMBRE\n",
       "IDTDOC       \n",
       "1           C\n",
       "2           E\n",
       "3           P\n",
       "4           Q\n",
       "5           R\n",
       "6           T\n",
       "7           V\n",
       "8          NA"
      ]
     },
     "execution_count": 67,
     "metadata": {},
     "output_type": "execute_result"
    }
   ],
   "source": [
    "# ***************** ESTU_TIPO_DOCUMENTO\n",
    "data.sort_values(by=['ESTU_TIPO_DOCUMENTO'], inplace=True)\n",
    "DA={'NOMBRE':data['ESTU_TIPO_DOCUMENTO']}\n",
    "DM_TDOC = pd.DataFrame(DA)\n",
    "DM_TDOC = DM_TDOC.fillna('NA')\n",
    "DM_TDOC.drop_duplicates(inplace=True)\n",
    "DM_TDOC['IDTDOC'] = range(1, len(DM_TDOC) + 1)\n",
    "DM_TDOC.set_index('IDTDOC', inplace=True)\n",
    "DM_TDOC.to_csv('./DMs/DM_TDOC.csv')\n",
    "DM_TDOC"
   ]
  },
  {
   "cell_type": "code",
   "execution_count": 68,
   "id": "36d096a5",
   "metadata": {},
   "outputs": [
    {
     "data": {
      "text/html": [
       "<div>\n",
       "<style scoped>\n",
       "    .dataframe tbody tr th:only-of-type {\n",
       "        vertical-align: middle;\n",
       "    }\n",
       "\n",
       "    .dataframe tbody tr th {\n",
       "        vertical-align: top;\n",
       "    }\n",
       "\n",
       "    .dataframe thead th {\n",
       "        text-align: right;\n",
       "    }\n",
       "</style>\n",
       "<table border=\"1\" class=\"dataframe\">\n",
       "  <thead>\n",
       "    <tr style=\"text-align: right;\">\n",
       "      <th></th>\n",
       "      <th>NOMBRE</th>\n",
       "    </tr>\n",
       "    <tr>\n",
       "      <th>IDERES</th>\n",
       "      <th></th>\n",
       "    </tr>\n",
       "  </thead>\n",
       "  <tbody>\n",
       "    <tr>\n",
       "      <th>1</th>\n",
       "      <td>AR</td>\n",
       "    </tr>\n",
       "    <tr>\n",
       "      <th>2</th>\n",
       "      <td>AW</td>\n",
       "    </tr>\n",
       "    <tr>\n",
       "      <th>3</th>\n",
       "      <td>BO</td>\n",
       "    </tr>\n",
       "    <tr>\n",
       "      <th>4</th>\n",
       "      <td>BR</td>\n",
       "    </tr>\n",
       "    <tr>\n",
       "      <th>5</th>\n",
       "      <td>CL</td>\n",
       "    </tr>\n",
       "    <tr>\n",
       "      <th>6</th>\n",
       "      <td>CO</td>\n",
       "    </tr>\n",
       "    <tr>\n",
       "      <th>7</th>\n",
       "      <td>CR</td>\n",
       "    </tr>\n",
       "    <tr>\n",
       "      <th>8</th>\n",
       "      <td>DE</td>\n",
       "    </tr>\n",
       "    <tr>\n",
       "      <th>9</th>\n",
       "      <td>DO</td>\n",
       "    </tr>\n",
       "    <tr>\n",
       "      <th>10</th>\n",
       "      <td>EC</td>\n",
       "    </tr>\n",
       "    <tr>\n",
       "      <th>11</th>\n",
       "      <td>ES</td>\n",
       "    </tr>\n",
       "    <tr>\n",
       "      <th>12</th>\n",
       "      <td>GT</td>\n",
       "    </tr>\n",
       "    <tr>\n",
       "      <th>13</th>\n",
       "      <td>IL</td>\n",
       "    </tr>\n",
       "    <tr>\n",
       "      <th>14</th>\n",
       "      <td>IN</td>\n",
       "    </tr>\n",
       "    <tr>\n",
       "      <th>15</th>\n",
       "      <td>JP</td>\n",
       "    </tr>\n",
       "    <tr>\n",
       "      <th>16</th>\n",
       "      <td>KR</td>\n",
       "    </tr>\n",
       "    <tr>\n",
       "      <th>17</th>\n",
       "      <td>MX</td>\n",
       "    </tr>\n",
       "    <tr>\n",
       "      <th>18</th>\n",
       "      <td>PE</td>\n",
       "    </tr>\n",
       "    <tr>\n",
       "      <th>19</th>\n",
       "      <td>SE</td>\n",
       "    </tr>\n",
       "    <tr>\n",
       "      <th>20</th>\n",
       "      <td>VA</td>\n",
       "    </tr>\n",
       "    <tr>\n",
       "      <th>21</th>\n",
       "      <td>VE</td>\n",
       "    </tr>\n",
       "    <tr>\n",
       "      <th>22</th>\n",
       "      <td>NA</td>\n",
       "    </tr>\n",
       "  </tbody>\n",
       "</table>\n",
       "</div>"
      ],
      "text/plain": [
       "       NOMBRE\n",
       "IDERES       \n",
       "1          AR\n",
       "2          AW\n",
       "3          BO\n",
       "4          BR\n",
       "5          CL\n",
       "6          CO\n",
       "7          CR\n",
       "8          DE\n",
       "9          DO\n",
       "10         EC\n",
       "11         ES\n",
       "12         GT\n",
       "13         IL\n",
       "14         IN\n",
       "15         JP\n",
       "16         KR\n",
       "17         MX\n",
       "18         PE\n",
       "19         SE\n",
       "20         VA\n",
       "21         VE\n",
       "22         NA"
      ]
     },
     "execution_count": 68,
     "metadata": {},
     "output_type": "execute_result"
    }
   ],
   "source": [
    "# ***************** ESTU_PAIS_RESIDE\n",
    "data.sort_values(by=['ESTU_PAIS_RESIDE'], inplace=True)\n",
    "DA={'NOMBRE':data['ESTU_PAIS_RESIDE']}\n",
    "DM_ERES = pd.DataFrame(DA)\n",
    "DM_ERES = DM_ERES.fillna('NA')\n",
    "DM_ERES.drop_duplicates(inplace=True)\n",
    "DM_ERES['IDERES'] = range(1, len(DM_ERES) + 1)\n",
    "DM_ERES.set_index('IDERES', inplace=True)\n",
    "DM_ERES.to_csv('./DMs/DM_ERES.csv')\n",
    "DM_ERES"
   ]
  },
  {
   "cell_type": "code",
   "execution_count": 69,
   "id": "9b96475b",
   "metadata": {},
   "outputs": [
    {
     "data": {
      "text/html": [
       "<div>\n",
       "<style scoped>\n",
       "    .dataframe tbody tr th:only-of-type {\n",
       "        vertical-align: middle;\n",
       "    }\n",
       "\n",
       "    .dataframe tbody tr th {\n",
       "        vertical-align: top;\n",
       "    }\n",
       "\n",
       "    .dataframe thead th {\n",
       "        text-align: right;\n",
       "    }\n",
       "</style>\n",
       "<table border=\"1\" class=\"dataframe\">\n",
       "  <thead>\n",
       "    <tr style=\"text-align: right;\">\n",
       "      <th></th>\n",
       "      <th>NOMBRE</th>\n",
       "    </tr>\n",
       "    <tr>\n",
       "      <th>IDETNIA</th>\n",
       "      <th></th>\n",
       "    </tr>\n",
       "  </thead>\n",
       "  <tbody>\n",
       "    <tr>\n",
       "      <th>1</th>\n",
       "      <td>1.0</td>\n",
       "    </tr>\n",
       "    <tr>\n",
       "      <th>2</th>\n",
       "      <td>2.0</td>\n",
       "    </tr>\n",
       "    <tr>\n",
       "      <th>3</th>\n",
       "      <td>3.0</td>\n",
       "    </tr>\n",
       "    <tr>\n",
       "      <th>4</th>\n",
       "      <td>4.0</td>\n",
       "    </tr>\n",
       "    <tr>\n",
       "      <th>5</th>\n",
       "      <td>5.0</td>\n",
       "    </tr>\n",
       "    <tr>\n",
       "      <th>6</th>\n",
       "      <td>6.0</td>\n",
       "    </tr>\n",
       "    <tr>\n",
       "      <th>7</th>\n",
       "      <td>7.0</td>\n",
       "    </tr>\n",
       "    <tr>\n",
       "      <th>8</th>\n",
       "      <td>8.0</td>\n",
       "    </tr>\n",
       "    <tr>\n",
       "      <th>9</th>\n",
       "      <td>9.0</td>\n",
       "    </tr>\n",
       "    <tr>\n",
       "      <th>10</th>\n",
       "      <td>10.0</td>\n",
       "    </tr>\n",
       "    <tr>\n",
       "      <th>11</th>\n",
       "      <td>11.0</td>\n",
       "    </tr>\n",
       "    <tr>\n",
       "      <th>12</th>\n",
       "      <td>12.0</td>\n",
       "    </tr>\n",
       "    <tr>\n",
       "      <th>13</th>\n",
       "      <td>13.0</td>\n",
       "    </tr>\n",
       "    <tr>\n",
       "      <th>14</th>\n",
       "      <td>14.0</td>\n",
       "    </tr>\n",
       "    <tr>\n",
       "      <th>15</th>\n",
       "      <td>15.0</td>\n",
       "    </tr>\n",
       "    <tr>\n",
       "      <th>16</th>\n",
       "      <td>16.0</td>\n",
       "    </tr>\n",
       "    <tr>\n",
       "      <th>17</th>\n",
       "      <td>17.0</td>\n",
       "    </tr>\n",
       "    <tr>\n",
       "      <th>18</th>\n",
       "      <td>99.0</td>\n",
       "    </tr>\n",
       "    <tr>\n",
       "      <th>19</th>\n",
       "      <td>NA</td>\n",
       "    </tr>\n",
       "  </tbody>\n",
       "</table>\n",
       "</div>"
      ],
      "text/plain": [
       "        NOMBRE\n",
       "IDETNIA       \n",
       "1          1.0\n",
       "2          2.0\n",
       "3          3.0\n",
       "4          4.0\n",
       "5          5.0\n",
       "6          6.0\n",
       "7          7.0\n",
       "8          8.0\n",
       "9          9.0\n",
       "10        10.0\n",
       "11        11.0\n",
       "12        12.0\n",
       "13        13.0\n",
       "14        14.0\n",
       "15        15.0\n",
       "16        16.0\n",
       "17        17.0\n",
       "18        99.0\n",
       "19          NA"
      ]
     },
     "execution_count": 69,
     "metadata": {},
     "output_type": "execute_result"
    }
   ],
   "source": [
    "# ***************** ESTU_ETNIA\n",
    "data.sort_values(by=['ESTU_ETNIA'], inplace=True)\n",
    "DA = {'NOMBRE': data['ESTU_ETNIA']}\n",
    "DM_ETNIA = pd.DataFrame(DA)\n",
    "DM_ETNIA.drop_duplicates(inplace = True)\n",
    "DM_ETNIA = DM_ETNIA.fillna('NA')\n",
    "DM_ETNIA['IDETNIA'] = range(1, len(DM_ETNIA) + 1)\n",
    "DM_ETNIA.set_index('IDETNIA', inplace = True)\n",
    "DM_ETNIA.to_csv('./DMs/DM_ETNIA.csv')\n",
    "DM_ETNIA"
   ]
  },
  {
   "cell_type": "code",
   "execution_count": 70,
   "id": "013b9eb8",
   "metadata": {},
   "outputs": [
    {
     "data": {
      "text/html": [
       "<div>\n",
       "<style scoped>\n",
       "    .dataframe tbody tr th:only-of-type {\n",
       "        vertical-align: middle;\n",
       "    }\n",
       "\n",
       "    .dataframe tbody tr th {\n",
       "        vertical-align: top;\n",
       "    }\n",
       "\n",
       "    .dataframe thead th {\n",
       "        text-align: right;\n",
       "    }\n",
       "</style>\n",
       "<table border=\"1\" class=\"dataframe\">\n",
       "  <thead>\n",
       "    <tr style=\"text-align: right;\">\n",
       "      <th></th>\n",
       "      <th>NOMBRE</th>\n",
       "    </tr>\n",
       "    <tr>\n",
       "      <th>IDCOLNATU</th>\n",
       "      <th></th>\n",
       "    </tr>\n",
       "  </thead>\n",
       "  <tbody>\n",
       "    <tr>\n",
       "      <th>1</th>\n",
       "      <td>O</td>\n",
       "    </tr>\n",
       "    <tr>\n",
       "      <th>2</th>\n",
       "      <td>N</td>\n",
       "    </tr>\n",
       "    <tr>\n",
       "      <th>3</th>\n",
       "      <td>NA</td>\n",
       "    </tr>\n",
       "  </tbody>\n",
       "</table>\n",
       "</div>"
      ],
      "text/plain": [
       "          NOMBRE\n",
       "IDCOLNATU       \n",
       "1              O\n",
       "2              N\n",
       "3             NA"
      ]
     },
     "execution_count": 70,
     "metadata": {},
     "output_type": "execute_result"
    }
   ],
   "source": [
    "# ***************** COLE_NATURALEZA\n",
    "DA = {'NOMBRE': data['COLE_NATURALEZA']}\n",
    "DM_COLNATU = pd.DataFrame(DA)\n",
    "DM_COLNATU.drop_duplicates(inplace = True)\n",
    "DM_COLNATU = DM_COLNATU.fillna('NA')\n",
    "DM_COLNATU['IDCOLNATU'] = range(1, len(DM_COLNATU) + 1)\n",
    "DM_COLNATU.set_index('IDCOLNATU', inplace = True)\n",
    "DM_COLNATU.to_csv('./DMs/DM_COLNATU.csv')\n",
    "DM_COLNATU"
   ]
  },
  {
   "cell_type": "code",
   "execution_count": 71,
   "id": "c02036b6",
   "metadata": {},
   "outputs": [
    {
     "data": {
      "text/html": [
       "<div>\n",
       "<style scoped>\n",
       "    .dataframe tbody tr th:only-of-type {\n",
       "        vertical-align: middle;\n",
       "    }\n",
       "\n",
       "    .dataframe tbody tr th {\n",
       "        vertical-align: top;\n",
       "    }\n",
       "\n",
       "    .dataframe thead th {\n",
       "        text-align: right;\n",
       "    }\n",
       "</style>\n",
       "<table border=\"1\" class=\"dataframe\">\n",
       "  <thead>\n",
       "    <tr style=\"text-align: right;\">\n",
       "      <th></th>\n",
       "      <th>NOMBRE</th>\n",
       "    </tr>\n",
       "    <tr>\n",
       "      <th>IDCOLBILIN</th>\n",
       "      <th></th>\n",
       "    </tr>\n",
       "  </thead>\n",
       "  <tbody>\n",
       "    <tr>\n",
       "      <th>1</th>\n",
       "      <td>0.0</td>\n",
       "    </tr>\n",
       "    <tr>\n",
       "      <th>2</th>\n",
       "      <td>1.0</td>\n",
       "    </tr>\n",
       "    <tr>\n",
       "      <th>3</th>\n",
       "      <td>NA</td>\n",
       "    </tr>\n",
       "  </tbody>\n",
       "</table>\n",
       "</div>"
      ],
      "text/plain": [
       "           NOMBRE\n",
       "IDCOLBILIN       \n",
       "1             0.0\n",
       "2             1.0\n",
       "3              NA"
      ]
     },
     "execution_count": 71,
     "metadata": {},
     "output_type": "execute_result"
    }
   ],
   "source": [
    "# ***************** COLE_BILINGUE\n",
    "data.sort_values(by=['COLE_BILINGUE'], inplace=True)\n",
    "DA = {'NOMBRE': data['COLE_BILINGUE']}\n",
    "DM_COLBILIN = pd.DataFrame(DA)\n",
    "DM_COLBILIN.drop_duplicates(inplace = True)\n",
    "DM_COLBILIN = DM_COLBILIN.fillna('NA')\n",
    "DM_COLBILIN['IDCOLBILIN'] = range(1, len(DM_COLBILIN) + 1)\n",
    "DM_COLBILIN.set_index('IDCOLBILIN', inplace = True)\n",
    "DM_COLBILIN.to_csv('./DMs/DM_COLBILIN.csv')\n",
    "DM_COLBILIN"
   ]
  },
  {
   "cell_type": "code",
   "execution_count": 72,
   "id": "f92c8182",
   "metadata": {},
   "outputs": [
    {
     "data": {
      "text/html": [
       "<div>\n",
       "<style scoped>\n",
       "    .dataframe tbody tr th:only-of-type {\n",
       "        vertical-align: middle;\n",
       "    }\n",
       "\n",
       "    .dataframe tbody tr th {\n",
       "        vertical-align: top;\n",
       "    }\n",
       "\n",
       "    .dataframe thead th {\n",
       "        text-align: right;\n",
       "    }\n",
       "</style>\n",
       "<table border=\"1\" class=\"dataframe\">\n",
       "  <thead>\n",
       "    <tr style=\"text-align: right;\">\n",
       "      <th></th>\n",
       "      <th>NOMBRE</th>\n",
       "    </tr>\n",
       "    <tr>\n",
       "      <th>IDCOLCARAC</th>\n",
       "      <th></th>\n",
       "    </tr>\n",
       "  </thead>\n",
       "  <tbody>\n",
       "    <tr>\n",
       "      <th>1</th>\n",
       "      <td>ACADEMICO</td>\n",
       "    </tr>\n",
       "    <tr>\n",
       "      <th>2</th>\n",
       "      <td>ACADEMICO Y TECNICO</td>\n",
       "    </tr>\n",
       "    <tr>\n",
       "      <th>3</th>\n",
       "      <td>DESCONOCIDO</td>\n",
       "    </tr>\n",
       "    <tr>\n",
       "      <th>4</th>\n",
       "      <td>NORMALISTA</td>\n",
       "    </tr>\n",
       "    <tr>\n",
       "      <th>5</th>\n",
       "      <td>TECNICO</td>\n",
       "    </tr>\n",
       "    <tr>\n",
       "      <th>6</th>\n",
       "      <td>NA</td>\n",
       "    </tr>\n",
       "  </tbody>\n",
       "</table>\n",
       "</div>"
      ],
      "text/plain": [
       "                         NOMBRE\n",
       "IDCOLCARAC                     \n",
       "1                     ACADEMICO\n",
       "2           ACADEMICO Y TECNICO\n",
       "3                   DESCONOCIDO\n",
       "4                    NORMALISTA\n",
       "5                       TECNICO\n",
       "6                            NA"
      ]
     },
     "execution_count": 72,
     "metadata": {},
     "output_type": "execute_result"
    }
   ],
   "source": [
    "# ***************** COLE_CARACTER\n",
    "data.sort_values(by=['COLE_CARACTER'], inplace=True)\n",
    "DA = {'NOMBRE': data['COLE_CARACTER']}\n",
    "DM_COLCARAC = pd.DataFrame(DA)\n",
    "DM_COLCARAC.drop_duplicates(inplace = True)\n",
    "DM_COLCARAC = DM_COLCARAC.fillna('NA')\n",
    "DM_COLCARAC['IDCOLCARAC'] = range(1, len(DM_COLCARAC) + 1)\n",
    "DM_COLCARAC.set_index('IDCOLCARAC', inplace = True)\n",
    "DM_COLCARAC.to_csv('./DMs/DM_COLCARAC.csv')\n",
    "DM_COLCARAC"
   ]
  },
  {
   "cell_type": "code",
   "execution_count": 73,
   "id": "bab5ec51",
   "metadata": {},
   "outputs": [
    {
     "data": {
      "text/html": [
       "<div>\n",
       "<style scoped>\n",
       "    .dataframe tbody tr th:only-of-type {\n",
       "        vertical-align: middle;\n",
       "    }\n",
       "\n",
       "    .dataframe tbody tr th {\n",
       "        vertical-align: top;\n",
       "    }\n",
       "\n",
       "    .dataframe thead th {\n",
       "        text-align: right;\n",
       "    }\n",
       "</style>\n",
       "<table border=\"1\" class=\"dataframe\">\n",
       "  <thead>\n",
       "    <tr style=\"text-align: right;\">\n",
       "      <th></th>\n",
       "      <th>NOMBRE</th>\n",
       "    </tr>\n",
       "    <tr>\n",
       "      <th>IDDESING</th>\n",
       "      <th></th>\n",
       "    </tr>\n",
       "  </thead>\n",
       "  <tbody>\n",
       "    <tr>\n",
       "      <th>1</th>\n",
       "      <td>A-</td>\n",
       "    </tr>\n",
       "    <tr>\n",
       "      <th>2</th>\n",
       "      <td>A1</td>\n",
       "    </tr>\n",
       "    <tr>\n",
       "      <th>3</th>\n",
       "      <td>A2</td>\n",
       "    </tr>\n",
       "    <tr>\n",
       "      <th>4</th>\n",
       "      <td>B+</td>\n",
       "    </tr>\n",
       "    <tr>\n",
       "      <th>5</th>\n",
       "      <td>B1</td>\n",
       "    </tr>\n",
       "    <tr>\n",
       "      <th>6</th>\n",
       "      <td>NA</td>\n",
       "    </tr>\n",
       "  </tbody>\n",
       "</table>\n",
       "</div>"
      ],
      "text/plain": [
       "         NOMBRE\n",
       "IDDESING       \n",
       "1            A-\n",
       "2            A1\n",
       "3            A2\n",
       "4            B+\n",
       "5            B1\n",
       "6            NA"
      ]
     },
     "execution_count": 73,
     "metadata": {},
     "output_type": "execute_result"
    }
   ],
   "source": [
    "# ***************** DESEMP_INGLES\n",
    "data.sort_values(by=['DESEMP_INGLES'], inplace=True)\n",
    "DA = {'NOMBRE': data['DESEMP_INGLES']}\n",
    "DM_DESING = pd.DataFrame(DA)\n",
    "DM_DESING.drop_duplicates(inplace = True)\n",
    "DM_DESING = DM_DESING.fillna('NA')\n",
    "DM_DESING['IDDESING'] = range(1, len(DM_DESING) + 1)\n",
    "DM_DESING.set_index('IDDESING', inplace = True)\n",
    "DM_DESING.to_csv('./DMs/DM_DESING.csv')\n",
    "DM_DESING"
   ]
  },
  {
   "cell_type": "code",
   "execution_count": 74,
   "id": "f23d245f",
   "metadata": {},
   "outputs": [
    {
     "data": {
      "text/html": [
       "<div>\n",
       "<style scoped>\n",
       "    .dataframe tbody tr th:only-of-type {\n",
       "        vertical-align: middle;\n",
       "    }\n",
       "\n",
       "    .dataframe tbody tr th {\n",
       "        vertical-align: top;\n",
       "    }\n",
       "\n",
       "    .dataframe thead th {\n",
       "        text-align: right;\n",
       "    }\n",
       "</style>\n",
       "<table border=\"1\" class=\"dataframe\">\n",
       "  <thead>\n",
       "    <tr style=\"text-align: right;\">\n",
       "      <th></th>\n",
       "      <th>NOMBRE</th>\n",
       "    </tr>\n",
       "    <tr>\n",
       "      <th>IDCOLGEN</th>\n",
       "      <th></th>\n",
       "    </tr>\n",
       "  </thead>\n",
       "  <tbody>\n",
       "    <tr>\n",
       "      <th>1</th>\n",
       "      <td>F</td>\n",
       "    </tr>\n",
       "    <tr>\n",
       "      <th>2</th>\n",
       "      <td>M</td>\n",
       "    </tr>\n",
       "    <tr>\n",
       "      <th>3</th>\n",
       "      <td>X</td>\n",
       "    </tr>\n",
       "    <tr>\n",
       "      <th>4</th>\n",
       "      <td>NA</td>\n",
       "    </tr>\n",
       "  </tbody>\n",
       "</table>\n",
       "</div>"
      ],
      "text/plain": [
       "         NOMBRE\n",
       "IDCOLGEN       \n",
       "1             F\n",
       "2             M\n",
       "3             X\n",
       "4            NA"
      ]
     },
     "execution_count": 74,
     "metadata": {},
     "output_type": "execute_result"
    }
   ],
   "source": [
    "# ***************** COLE_GENERO#\n",
    "# M\n",
    "# F\n",
    "# X --> MIXTO\n",
    "\n",
    "data.sort_values(by=['COLE_GENERO'], inplace=True)\n",
    "DA = {'NOMBRE': data['COLE_GENERO']}\n",
    "DM_COLGEN = pd.DataFrame(DA)\n",
    "DM_COLGEN.drop_duplicates(inplace = True)\n",
    "DM_COLGEN = DM_COLGEN.fillna('NA')\n",
    "DM_COLGEN['IDCOLGEN'] = range(1, len(DM_COLGEN) + 1)\n",
    "DM_COLGEN.set_index('IDCOLGEN', inplace = True)\n",
    "DM_COLGEN.to_csv('./DMs/DM_COLGEN.csv')\n",
    "DM_COLGEN"
   ]
  },
  {
   "cell_type": "code",
   "execution_count": 75,
   "id": "ccae5878",
   "metadata": {},
   "outputs": [],
   "source": [
    "# *************************  FECHAS"
   ]
  },
  {
   "cell_type": "code",
   "execution_count": 76,
   "id": "1510453c",
   "metadata": {},
   "outputs": [],
   "source": [
    "data['ESTU_NACIMIENTO_DIA'] = data['ESTU_NACIMIENTO_DIA'].fillna(0.0)\n",
    "data['ESTU_NACIMIENTO_MES'] = data['ESTU_NACIMIENTO_MES'].fillna(0.0)\n",
    "data['ESTU_NACIMIENTO_ANNO'] = data['ESTU_NACIMIENTO_ANNO'].fillna(0.0)"
   ]
  },
  {
   "cell_type": "code",
   "execution_count": 77,
   "id": "7a07a079",
   "metadata": {},
   "outputs": [],
   "source": [
    "data['ESTU_NACIMIENTO_DIA'] = data['ESTU_NACIMIENTO_DIA'].map(int)\n",
    "data['ESTU_NACIMIENTO_MES'] = data['ESTU_NACIMIENTO_MES'].map(int)\n",
    "data['ESTU_NACIMIENTO_ANNO'] = data['ESTU_NACIMIENTO_ANNO'].map(int)\n",
    "\n",
    "data.to_csv('./DMs/SB11_2012_1.csv', index = False)"
   ]
  },
  {
   "cell_type": "code",
   "execution_count": 78,
   "id": "b731385b",
   "metadata": {
    "scrolled": true
   },
   "outputs": [],
   "source": [
    "# **************************** make date from 3 columns NO PANDAS\n",
    "datetest = datetime.strptime('15/4/2012', '%d/%m/%Y')\n",
    "with open('./DMs/SB11_2012_1.csv', 'r') as readFile, open('./DMs/SB11_2012_1X.csv', 'w') as writeFile: \n",
    "    fileone = csv.reader(readFile)\n",
    "    headers = next(fileone)\n",
    "    writer = csv.writer(writeFile)\n",
    "    writer.writerow(headers)\n",
    "    for row in fileone:\n",
    "        if row[5]:\n",
    "            rowdate = row[3] + \"/\" + row[4] + \"/\" + row[5]\n",
    "            \n",
    "            if rowdate != \"0/0/0\":\n",
    "                #print(rowdate)\n",
    "            \n",
    "                fullDate = datetime.strptime(rowdate, '%d/%m/%Y')\n",
    "                #print(fullDate)\n",
    "                diff = relativedelta.relativedelta(datetest, fullDate)\n",
    "                row[7] = str(fullDate)\n",
    "                row[8] = int(diff.years)\n",
    "                writer = csv.writer(writeFile)\n",
    "                writer.writerow(row)\n",
    "\n",
    "            else:\n",
    "                row[7] = 'NA'\n",
    "                writer = csv.writer(writeFile)\n",
    "                writer.writerow(row)\n",
    "            \n",
    "        # ***************** ESTU_GENERO\n",
    "        \n",
    "        if row[2] == \"X\":\n",
    "            if row[13] == \"M\":\n",
    "                row[2] = \"M\"\n",
    "            if row[13] == \"F\":\n",
    "                row[2] = \"F\"\n",
    "                \n",
    "                \n",
    "                \n",
    "    "
   ]
  },
  {
   "cell_type": "code",
   "execution_count": 79,
   "id": "204f86c8",
   "metadata": {},
   "outputs": [],
   "source": [
    "path = \"./DMs/\"\n",
    "os.remove('./DMs/SB11_2012_1.csv')\n",
    "\n",
    "old_name = r\"SB11_2012_1X.csv\"\n",
    "new_name = r\"SB11_2012_1.csv\"\n",
    "os.rename(path + old_name, path + new_name)\n",
    "\n",
    "data = pd.read_csv('./DMs/SB11_2012_1.csv', low_memory=False)"
   ]
  },
  {
   "cell_type": "code",
   "execution_count": 4,
   "id": "2a00bf94",
   "metadata": {},
   "outputs": [
    {
     "name": "stderr",
     "output_type": "stream",
     "text": [
      "/home/gabriel/.local/lib/python3.10/site-packages/dtale/views.py:756: FutureWarning:\n",
      "\n",
      "['ESTU_TIPO_DOCUMENTO', 'ESTU_PAIS_RESIDE', 'FECHA_ANO', 'ESTU_RESIDE_MCPIO', 'ESTU_RESIDE_DEPTO', 'COLE_GENERO', 'COLE_NATURALEZA', 'COLE_CARACTER', 'DESEMP_INGLES'] did not aggregate successfully. If any error is raised this will raise in a future version of pandas. Drop these columns/ops to avoid this warning.\n",
      "\n"
     ]
    },
    {
     "data": {
      "text/html": [
       "\n",
       "        <iframe\n",
       "            width=\"100%\"\n",
       "            height=\"475\"\n",
       "            src=\"http://gabriel:40000/dtale/iframe/1\"\n",
       "            frameborder=\"0\"\n",
       "            allowfullscreen\n",
       "            \n",
       "        ></iframe>\n",
       "        "
      ],
      "text/plain": [
       "<IPython.lib.display.IFrame at 0x7f614818dde0>"
      ]
     },
     "metadata": {},
     "output_type": "display_data"
    },
    {
     "data": {
      "text/plain": []
     },
     "execution_count": 4,
     "metadata": {},
     "output_type": "execute_result"
    }
   ],
   "source": [
    "data = pd.read_csv('./DMs/SB11_2012_1.csv', low_memory=False)\n",
    "d = dtale.show(data)\n",
    "d"
   ]
  },
  {
   "cell_type": "code",
   "execution_count": 3,
   "id": "eb8c8f28",
   "metadata": {},
   "outputs": [
    {
     "ename": "FileNotFoundError",
     "evalue": "[Errno 2] No such file or directory: './DMs/SB11_2012_1X.csv'",
     "output_type": "error",
     "traceback": [
      "\u001b[0;31m---------------------------------------------------------------------------\u001b[0m",
      "\u001b[0;31mFileNotFoundError\u001b[0m                         Traceback (most recent call last)",
      "\u001b[0;32m/tmp/ipykernel_5192/1292937756.py\u001b[0m in \u001b[0;36m<module>\u001b[0;34m\u001b[0m\n\u001b[0;32m----> 1\u001b[0;31m \u001b[0mdata\u001b[0m \u001b[0;34m=\u001b[0m \u001b[0mpd\u001b[0m\u001b[0;34m.\u001b[0m\u001b[0mread_csv\u001b[0m\u001b[0;34m(\u001b[0m\u001b[0;34m'./DMs/SB11_2012_1X.csv'\u001b[0m\u001b[0;34m,\u001b[0m \u001b[0mlow_memory\u001b[0m\u001b[0;34m=\u001b[0m\u001b[0;32mFalse\u001b[0m\u001b[0;34m)\u001b[0m\u001b[0;34m\u001b[0m\u001b[0;34m\u001b[0m\u001b[0m\n\u001b[0m\u001b[1;32m      2\u001b[0m \u001b[0md\u001b[0m \u001b[0;34m=\u001b[0m \u001b[0mdtale\u001b[0m\u001b[0;34m.\u001b[0m\u001b[0mshow\u001b[0m\u001b[0;34m(\u001b[0m\u001b[0mdata\u001b[0m\u001b[0;34m)\u001b[0m\u001b[0;34m\u001b[0m\u001b[0;34m\u001b[0m\u001b[0m\n\u001b[1;32m      3\u001b[0m \u001b[0md\u001b[0m\u001b[0;34m\u001b[0m\u001b[0;34m\u001b[0m\u001b[0m\n",
      "\u001b[0;32m~/.local/lib/python3.10/site-packages/pandas/util/_decorators.py\u001b[0m in \u001b[0;36mwrapper\u001b[0;34m(*args, **kwargs)\u001b[0m\n\u001b[1;32m    209\u001b[0m                 \u001b[0;32melse\u001b[0m\u001b[0;34m:\u001b[0m\u001b[0;34m\u001b[0m\u001b[0;34m\u001b[0m\u001b[0m\n\u001b[1;32m    210\u001b[0m                     \u001b[0mkwargs\u001b[0m\u001b[0;34m[\u001b[0m\u001b[0mnew_arg_name\u001b[0m\u001b[0;34m]\u001b[0m \u001b[0;34m=\u001b[0m \u001b[0mnew_arg_value\u001b[0m\u001b[0;34m\u001b[0m\u001b[0;34m\u001b[0m\u001b[0m\n\u001b[0;32m--> 211\u001b[0;31m             \u001b[0;32mreturn\u001b[0m \u001b[0mfunc\u001b[0m\u001b[0;34m(\u001b[0m\u001b[0;34m*\u001b[0m\u001b[0margs\u001b[0m\u001b[0;34m,\u001b[0m \u001b[0;34m**\u001b[0m\u001b[0mkwargs\u001b[0m\u001b[0;34m)\u001b[0m\u001b[0;34m\u001b[0m\u001b[0;34m\u001b[0m\u001b[0m\n\u001b[0m\u001b[1;32m    212\u001b[0m \u001b[0;34m\u001b[0m\u001b[0m\n\u001b[1;32m    213\u001b[0m         \u001b[0;32mreturn\u001b[0m \u001b[0mcast\u001b[0m\u001b[0;34m(\u001b[0m\u001b[0mF\u001b[0m\u001b[0;34m,\u001b[0m \u001b[0mwrapper\u001b[0m\u001b[0;34m)\u001b[0m\u001b[0;34m\u001b[0m\u001b[0;34m\u001b[0m\u001b[0m\n",
      "\u001b[0;32m~/.local/lib/python3.10/site-packages/pandas/util/_decorators.py\u001b[0m in \u001b[0;36mwrapper\u001b[0;34m(*args, **kwargs)\u001b[0m\n\u001b[1;32m    329\u001b[0m                     \u001b[0mstacklevel\u001b[0m\u001b[0;34m=\u001b[0m\u001b[0mfind_stack_level\u001b[0m\u001b[0;34m(\u001b[0m\u001b[0;34m)\u001b[0m\u001b[0;34m,\u001b[0m\u001b[0;34m\u001b[0m\u001b[0;34m\u001b[0m\u001b[0m\n\u001b[1;32m    330\u001b[0m                 )\n\u001b[0;32m--> 331\u001b[0;31m             \u001b[0;32mreturn\u001b[0m \u001b[0mfunc\u001b[0m\u001b[0;34m(\u001b[0m\u001b[0;34m*\u001b[0m\u001b[0margs\u001b[0m\u001b[0;34m,\u001b[0m \u001b[0;34m**\u001b[0m\u001b[0mkwargs\u001b[0m\u001b[0;34m)\u001b[0m\u001b[0;34m\u001b[0m\u001b[0;34m\u001b[0m\u001b[0m\n\u001b[0m\u001b[1;32m    332\u001b[0m \u001b[0;34m\u001b[0m\u001b[0m\n\u001b[1;32m    333\u001b[0m         \u001b[0;31m# error: \"Callable[[VarArg(Any), KwArg(Any)], Any]\" has no\u001b[0m\u001b[0;34m\u001b[0m\u001b[0;34m\u001b[0m\u001b[0m\n",
      "\u001b[0;32m~/.local/lib/python3.10/site-packages/pandas/io/parsers/readers.py\u001b[0m in \u001b[0;36mread_csv\u001b[0;34m(filepath_or_buffer, sep, delimiter, header, names, index_col, usecols, squeeze, prefix, mangle_dupe_cols, dtype, engine, converters, true_values, false_values, skipinitialspace, skiprows, skipfooter, nrows, na_values, keep_default_na, na_filter, verbose, skip_blank_lines, parse_dates, infer_datetime_format, keep_date_col, date_parser, dayfirst, cache_dates, iterator, chunksize, compression, thousands, decimal, lineterminator, quotechar, quoting, doublequote, escapechar, comment, encoding, encoding_errors, dialect, error_bad_lines, warn_bad_lines, on_bad_lines, delim_whitespace, low_memory, memory_map, float_precision, storage_options)\u001b[0m\n\u001b[1;32m    948\u001b[0m     \u001b[0mkwds\u001b[0m\u001b[0;34m.\u001b[0m\u001b[0mupdate\u001b[0m\u001b[0;34m(\u001b[0m\u001b[0mkwds_defaults\u001b[0m\u001b[0;34m)\u001b[0m\u001b[0;34m\u001b[0m\u001b[0;34m\u001b[0m\u001b[0m\n\u001b[1;32m    949\u001b[0m \u001b[0;34m\u001b[0m\u001b[0m\n\u001b[0;32m--> 950\u001b[0;31m     \u001b[0;32mreturn\u001b[0m \u001b[0m_read\u001b[0m\u001b[0;34m(\u001b[0m\u001b[0mfilepath_or_buffer\u001b[0m\u001b[0;34m,\u001b[0m \u001b[0mkwds\u001b[0m\u001b[0;34m)\u001b[0m\u001b[0;34m\u001b[0m\u001b[0;34m\u001b[0m\u001b[0m\n\u001b[0m\u001b[1;32m    951\u001b[0m \u001b[0;34m\u001b[0m\u001b[0m\n\u001b[1;32m    952\u001b[0m \u001b[0;34m\u001b[0m\u001b[0m\n",
      "\u001b[0;32m~/.local/lib/python3.10/site-packages/pandas/io/parsers/readers.py\u001b[0m in \u001b[0;36m_read\u001b[0;34m(filepath_or_buffer, kwds)\u001b[0m\n\u001b[1;32m    603\u001b[0m \u001b[0;34m\u001b[0m\u001b[0m\n\u001b[1;32m    604\u001b[0m     \u001b[0;31m# Create the parser.\u001b[0m\u001b[0;34m\u001b[0m\u001b[0;34m\u001b[0m\u001b[0m\n\u001b[0;32m--> 605\u001b[0;31m     \u001b[0mparser\u001b[0m \u001b[0;34m=\u001b[0m \u001b[0mTextFileReader\u001b[0m\u001b[0;34m(\u001b[0m\u001b[0mfilepath_or_buffer\u001b[0m\u001b[0;34m,\u001b[0m \u001b[0;34m**\u001b[0m\u001b[0mkwds\u001b[0m\u001b[0;34m)\u001b[0m\u001b[0;34m\u001b[0m\u001b[0;34m\u001b[0m\u001b[0m\n\u001b[0m\u001b[1;32m    606\u001b[0m \u001b[0;34m\u001b[0m\u001b[0m\n\u001b[1;32m    607\u001b[0m     \u001b[0;32mif\u001b[0m \u001b[0mchunksize\u001b[0m \u001b[0;32mor\u001b[0m \u001b[0miterator\u001b[0m\u001b[0;34m:\u001b[0m\u001b[0;34m\u001b[0m\u001b[0;34m\u001b[0m\u001b[0m\n",
      "\u001b[0;32m~/.local/lib/python3.10/site-packages/pandas/io/parsers/readers.py\u001b[0m in \u001b[0;36m__init__\u001b[0;34m(self, f, engine, **kwds)\u001b[0m\n\u001b[1;32m   1440\u001b[0m \u001b[0;34m\u001b[0m\u001b[0m\n\u001b[1;32m   1441\u001b[0m         \u001b[0mself\u001b[0m\u001b[0;34m.\u001b[0m\u001b[0mhandles\u001b[0m\u001b[0;34m:\u001b[0m \u001b[0mIOHandles\u001b[0m \u001b[0;34m|\u001b[0m \u001b[0;32mNone\u001b[0m \u001b[0;34m=\u001b[0m \u001b[0;32mNone\u001b[0m\u001b[0;34m\u001b[0m\u001b[0;34m\u001b[0m\u001b[0m\n\u001b[0;32m-> 1442\u001b[0;31m         \u001b[0mself\u001b[0m\u001b[0;34m.\u001b[0m\u001b[0m_engine\u001b[0m \u001b[0;34m=\u001b[0m \u001b[0mself\u001b[0m\u001b[0;34m.\u001b[0m\u001b[0m_make_engine\u001b[0m\u001b[0;34m(\u001b[0m\u001b[0mf\u001b[0m\u001b[0;34m,\u001b[0m \u001b[0mself\u001b[0m\u001b[0;34m.\u001b[0m\u001b[0mengine\u001b[0m\u001b[0;34m)\u001b[0m\u001b[0;34m\u001b[0m\u001b[0;34m\u001b[0m\u001b[0m\n\u001b[0m\u001b[1;32m   1443\u001b[0m \u001b[0;34m\u001b[0m\u001b[0m\n\u001b[1;32m   1444\u001b[0m     \u001b[0;32mdef\u001b[0m \u001b[0mclose\u001b[0m\u001b[0;34m(\u001b[0m\u001b[0mself\u001b[0m\u001b[0;34m)\u001b[0m \u001b[0;34m->\u001b[0m \u001b[0;32mNone\u001b[0m\u001b[0;34m:\u001b[0m\u001b[0;34m\u001b[0m\u001b[0;34m\u001b[0m\u001b[0m\n",
      "\u001b[0;32m~/.local/lib/python3.10/site-packages/pandas/io/parsers/readers.py\u001b[0m in \u001b[0;36m_make_engine\u001b[0;34m(self, f, engine)\u001b[0m\n\u001b[1;32m   1733\u001b[0m                 \u001b[0;32mif\u001b[0m \u001b[0;34m\"b\"\u001b[0m \u001b[0;32mnot\u001b[0m \u001b[0;32min\u001b[0m \u001b[0mmode\u001b[0m\u001b[0;34m:\u001b[0m\u001b[0;34m\u001b[0m\u001b[0;34m\u001b[0m\u001b[0m\n\u001b[1;32m   1734\u001b[0m                     \u001b[0mmode\u001b[0m \u001b[0;34m+=\u001b[0m \u001b[0;34m\"b\"\u001b[0m\u001b[0;34m\u001b[0m\u001b[0;34m\u001b[0m\u001b[0m\n\u001b[0;32m-> 1735\u001b[0;31m             self.handles = get_handle(\n\u001b[0m\u001b[1;32m   1736\u001b[0m                 \u001b[0mf\u001b[0m\u001b[0;34m,\u001b[0m\u001b[0;34m\u001b[0m\u001b[0;34m\u001b[0m\u001b[0m\n\u001b[1;32m   1737\u001b[0m                 \u001b[0mmode\u001b[0m\u001b[0;34m,\u001b[0m\u001b[0;34m\u001b[0m\u001b[0;34m\u001b[0m\u001b[0m\n",
      "\u001b[0;32m~/.local/lib/python3.10/site-packages/pandas/io/common.py\u001b[0m in \u001b[0;36mget_handle\u001b[0;34m(path_or_buf, mode, encoding, compression, memory_map, is_text, errors, storage_options)\u001b[0m\n\u001b[1;32m    854\u001b[0m         \u001b[0;32mif\u001b[0m \u001b[0mioargs\u001b[0m\u001b[0;34m.\u001b[0m\u001b[0mencoding\u001b[0m \u001b[0;32mand\u001b[0m \u001b[0;34m\"b\"\u001b[0m \u001b[0;32mnot\u001b[0m \u001b[0;32min\u001b[0m \u001b[0mioargs\u001b[0m\u001b[0;34m.\u001b[0m\u001b[0mmode\u001b[0m\u001b[0;34m:\u001b[0m\u001b[0;34m\u001b[0m\u001b[0;34m\u001b[0m\u001b[0m\n\u001b[1;32m    855\u001b[0m             \u001b[0;31m# Encoding\u001b[0m\u001b[0;34m\u001b[0m\u001b[0;34m\u001b[0m\u001b[0m\n\u001b[0;32m--> 856\u001b[0;31m             handle = open(\n\u001b[0m\u001b[1;32m    857\u001b[0m                 \u001b[0mhandle\u001b[0m\u001b[0;34m,\u001b[0m\u001b[0;34m\u001b[0m\u001b[0;34m\u001b[0m\u001b[0m\n\u001b[1;32m    858\u001b[0m                 \u001b[0mioargs\u001b[0m\u001b[0;34m.\u001b[0m\u001b[0mmode\u001b[0m\u001b[0;34m,\u001b[0m\u001b[0;34m\u001b[0m\u001b[0;34m\u001b[0m\u001b[0m\n",
      "\u001b[0;31mFileNotFoundError\u001b[0m: [Errno 2] No such file or directory: './DMs/SB11_2012_1X.csv'"
     ]
    }
   ],
   "source": [
    "data = pd.read_csv('./DMs/SB11_2012_1X.csv', low_memory=False)\n",
    "d = dtale.show(data)\n",
    "d"
   ]
  },
  {
   "cell_type": "code",
   "execution_count": null,
   "id": "898259b9",
   "metadata": {},
   "outputs": [],
   "source": []
  },
  {
   "cell_type": "code",
   "execution_count": null,
   "id": "e73f1a7d",
   "metadata": {},
   "outputs": [],
   "source": []
  },
  {
   "cell_type": "code",
   "execution_count": null,
   "id": "02fe993f",
   "metadata": {},
   "outputs": [],
   "source": [
    "# ***************** ESTU_GENERO\n",
    "data.sort_values(by=['ESTU_GENERO'], inplace=True)\n",
    "DA = {'NOMBRE': data['ESTU_GENERO']}\n",
    "DM_GENERO = pd.DataFrame(DA)\n",
    "DM_GENERO.drop_duplicates(inplace = True)\n",
    "DM_GENERO = DM_GENERO.fillna('NA')\n",
    "DM_GENERO['IDGENERO'] = range(1, len(DM_GENERO) + 1)\n",
    "DM_GENERO.set_index('IDGENERO', inplace = True)\n",
    "DM_GENERO.to_csv('./DMs/DM_GENERO.csv')\n",
    "DM_GENERO"
   ]
  },
  {
   "cell_type": "code",
   "execution_count": null,
   "id": "5e586249",
   "metadata": {},
   "outputs": [],
   "source": []
  },
  {
   "cell_type": "code",
   "execution_count": 40,
   "id": "6cbc556b",
   "metadata": {},
   "outputs": [],
   "source": []
  },
  {
   "cell_type": "code",
   "execution_count": 41,
   "id": "b5d10d67",
   "metadata": {},
   "outputs": [],
   "source": [
    "# ***************************************************************************\n",
    "# ***************************************************************************"
   ]
  },
  {
   "cell_type": "code",
   "execution_count": 42,
   "id": "101ebe4b",
   "metadata": {},
   "outputs": [
    {
     "data": {
      "text/html": [
       "<div>\n",
       "<style scoped>\n",
       "    .dataframe tbody tr th:only-of-type {\n",
       "        vertical-align: middle;\n",
       "    }\n",
       "\n",
       "    .dataframe tbody tr th {\n",
       "        vertical-align: top;\n",
       "    }\n",
       "\n",
       "    .dataframe thead th {\n",
       "        text-align: right;\n",
       "    }\n",
       "</style>\n",
       "<table border=\"1\" class=\"dataframe\">\n",
       "  <thead>\n",
       "    <tr style=\"text-align: right;\">\n",
       "      <th></th>\n",
       "      <th>ESTU_TIPO_DOCUMENTO</th>\n",
       "      <th>ESTU_PAIS_RESIDE</th>\n",
       "      <th>ESTU_GENERO</th>\n",
       "      <th>ESTU_NACIMIENTO_DIA</th>\n",
       "      <th>ESTU_NACIMIENTO_MES</th>\n",
       "      <th>ESTU_NACIMIENTO_ANNO</th>\n",
       "      <th>ESTU_EDAD</th>\n",
       "      <th>FECHA_ANO</th>\n",
       "      <th>EDAD</th>\n",
       "      <th>ESTU_ETNIA</th>\n",
       "      <th>ESTU_COD_RESIDE_MCPIO</th>\n",
       "      <th>ESTU_RESIDE_MCPIO</th>\n",
       "      <th>ESTU_RESIDE_DEPTO</th>\n",
       "      <th>COLE_GENERO</th>\n",
       "      <th>COLE_NATURALEZA</th>\n",
       "      <th>COLE_BILINGUE</th>\n",
       "      <th>COLE_CARACTER</th>\n",
       "      <th>PUNT_INGLES</th>\n",
       "      <th>DESEMP_INGLES</th>\n",
       "      <th>ESTU_PUESTO</th>\n",
       "    </tr>\n",
       "  </thead>\n",
       "  <tbody>\n",
       "  </tbody>\n",
       "</table>\n",
       "</div>"
      ],
      "text/plain": [
       "Empty DataFrame\n",
       "Columns: [ESTU_TIPO_DOCUMENTO, ESTU_PAIS_RESIDE, ESTU_GENERO, ESTU_NACIMIENTO_DIA, ESTU_NACIMIENTO_MES, ESTU_NACIMIENTO_ANNO, ESTU_EDAD, FECHA_ANO, EDAD, ESTU_ETNIA, ESTU_COD_RESIDE_MCPIO, ESTU_RESIDE_MCPIO, ESTU_RESIDE_DEPTO, COLE_GENERO, COLE_NATURALEZA, COLE_BILINGUE, COLE_CARACTER, PUNT_INGLES, DESEMP_INGLES, ESTU_PUESTO]\n",
       "Index: []"
      ]
     },
     "execution_count": 42,
     "metadata": {},
     "output_type": "execute_result"
    }
   ],
   "source": [
    "data"
   ]
  },
  {
   "cell_type": "code",
   "execution_count": 121,
   "id": "037673b1",
   "metadata": {},
   "outputs": [],
   "source": [
    "# ***************** ESTU_TIPO_DOCUMENTO\n",
    "data.columns = data.columns.str.replace('ESTU_TIPO_DOCUMENTO', 'IDTIPODOC')\n",
    "data['IDTIPODOC'] = data.IDTIPODOC.fillna('8')\n",
    "data['IDTIPODOC'] = data.IDTIPODOC.str.replace('C', '1', regex=False)\n",
    "data['IDTIPODOC'] = data.IDTIPODOC.str.replace('R', '2', regex=False)\n",
    "data['IDTIPODOC'] = data.IDTIPODOC.str.replace('T', '3', regex=False)\n",
    "data['IDTIPODOC'] = data.IDTIPODOC.str.replace('E', '4', regex=False)\n",
    "data['IDTIPODOC'] = data.IDTIPODOC.str.replace('Q', '5', regex=False)\n",
    "data['IDTIPODOC'] = data.IDTIPODOC.str.replace('V', '6', regex=False)\n",
    "data['IDTIPODOC'] = data.IDTIPODOC.str.replace('P', '7', regex=False)"
   ]
  },
  {
   "cell_type": "code",
   "execution_count": 103,
   "id": "d67392d2",
   "metadata": {},
   "outputs": [],
   "source": [
    "# ***************** ESTU_GENERO\n",
    "data.columns = data.columns.str.replace('ESTU_GENERO', 'IDGENERO')\n",
    "data['IDGENERO'] = data.IDGENERO.str.replace('F', '1', regex=False)\n",
    "data['IDGENERO'] = data.IDGENERO.str.replace('M', '2', regex=False)\n",
    "data['IDGENERO'] = data.IDGENERO.str.replace('X', '3', regex=False)"
   ]
  },
  {
   "cell_type": "code",
   "execution_count": 123,
   "id": "aded410f",
   "metadata": {},
   "outputs": [],
   "source": [
    "# ***************** COLE_GENERO\n",
    "data.columns = data.columns.str.replace('COLE_GENERO', 'IDCOLGEN')\n",
    "data['IDCOLGEN'] = data.IDCOLGEN.fillna('4')\n",
    "data['IDCOLGEN'] = data.IDCOLGEN.str.replace('F', '1', regex=False)\n",
    "data['IDCOLGEN'] = data.IDCOLGEN.str.replace('M', '2', regex=False)\n",
    "data['IDCOLGEN'] = data.IDCOLGEN.str.replace('X', '3', regex=False)"
   ]
  },
  {
   "cell_type": "code",
   "execution_count": 105,
   "id": "98e1390a",
   "metadata": {},
   "outputs": [],
   "source": [
    "# ***************** COLE_NATURALEZA\n",
    "data.columns = data.columns.str.replace('COLE_NATURALEZA', 'IDCOLNATU')\n",
    "data['IDCOLNATU'] = data.IDCOLNATU.str.replace('F', '1', regex=False)\n",
    "data['IDCOLNATU'] = data.IDCOLNATU.str.replace('M', '2', regex=False)\n",
    "data['IDCOLNATU'] = data.IDCOLNATU.str.replace('X', '3', regex=False)"
   ]
  },
  {
   "cell_type": "code",
   "execution_count": 125,
   "id": "c53d494e",
   "metadata": {},
   "outputs": [],
   "source": [
    "# ***************** COLE_BILINGUE\n",
    "data.columns = data.columns.str.replace('COLE_BILINGUE', 'IDCOLBILIN')\n",
    "data['IDCOLBILIN'] = data.IDCOLBILIN.fillna('3')\n",
    "data['IDCOLBILIN'] = data.IDCOLBILIN.replace(0, '1', regex=False)\n",
    "data['IDCOLBILIN'] = data.IDCOLBILIN.replace(1, '2', regex=False)"
   ]
  },
  {
   "cell_type": "code",
   "execution_count": 107,
   "id": "e0516e96",
   "metadata": {},
   "outputs": [],
   "source": [
    "# ***************** COLE_CARACTER\n",
    "data.columns = data.columns.str.replace('COLE_CARACTER', 'IDCOLCARAC')\n",
    "data['IDCOLCARAC'] = data.IDCOLCARAC.fillna('6')\n",
    "data['IDCOLCARAC'] = data.IDCOLCARAC.str.replace('ACADEMICO', '1', regex=False)\n",
    "data['IDCOLCARAC'] = data.IDCOLCARAC.str.replace('ACADEMICO Y TECNICO', '2', regex=False)\n",
    "data['IDCOLCARAC'] = data.IDCOLCARAC.str.replace('DESCONOCIDO', '3', regex=False)\n",
    "data['IDCOLCARAC'] = data.IDCOLCARAC.str.replace('NORMALISTA', '4', regex=False)\n",
    "data['IDCOLCARAC'] = data.IDCOLCARAC.str.replace('TECNICO', '5', regex=False)"
   ]
  },
  {
   "cell_type": "code",
   "execution_count": 108,
   "id": "7b97866f",
   "metadata": {},
   "outputs": [],
   "source": [
    "# ***************** DESEMP_INGLES\n",
    "data.columns = data.columns.str.replace('DESEMP_INGLES', 'IDDESING')\n",
    "data['IDDESING'] = data.IDDESING.fillna('6')\n",
    "data['IDDESING'] = data.IDDESING.str.replace('A-', '1', regex=False)\n",
    "data['IDDESING'] = data.IDDESING.str.replace('A1', '2', regex=False)\n",
    "data['IDDESING'] = data.IDDESING.str.replace('A2', '3', regex=False)\n",
    "data['IDDESING'] = data.IDDESING.str.replace('B+', '4', regex=False)\n",
    "data['IDDESING'] = data.IDDESING.str.replace('B1', '5', regex=False)"
   ]
  },
  {
   "cell_type": "code",
   "execution_count": 109,
   "id": "c38e3fde",
   "metadata": {},
   "outputs": [],
   "source": [
    "# ***************** ESTU_RESIDE_DEPTO    ESTU_COD_RESIDE_MCPIO    ESTU_RESIDE_DEPTO\n",
    "data['ESTU_RESIDE_DEPTO'] = data['ESTU_COD_RESIDE_MCPIO'] // 1000\n",
    "data['ESTU_COD_RESIDE_MCPIO'] = data['ESTU_COD_RESIDE_MCPIO'].fillna('NA')\n",
    "data['ESTU_RESIDE_DEPTO'] = data['ESTU_RESIDE_DEPTO'].fillna('NA')\n",
    "\n",
    "data.columns = data.columns.str.replace('ESTU_COD_RESIDE_MCPIO', 'IDCODEMUNI')\n",
    "data.columns = data.columns.str.replace('ESTU_RESIDE_DEPTO', 'IDCODEDEPTO')"
   ]
  },
  {
   "cell_type": "code",
   "execution_count": 110,
   "id": "c09915b8",
   "metadata": {},
   "outputs": [],
   "source": [
    "data.drop(['ESTU_NACIMIENTO_DIA', 'ESTU_NACIMIENTO_MES', 'ESTU_NACIMIENTO_ANNO'], axis=1, inplace=True)\n",
    "data.drop(['ESTU_RESIDE_MCPIO'], axis=1, inplace=True)"
   ]
  },
  {
   "cell_type": "code",
   "execution_count": 126,
   "id": "90db8153",
   "metadata": {},
   "outputs": [],
   "source": [
    "data.to_csv('./DMs/SB11_2012_1.csv', index = False)"
   ]
  },
  {
   "cell_type": "code",
   "execution_count": 61,
   "id": "e52e64b4",
   "metadata": {},
   "outputs": [
    {
     "name": "stdout",
     "output_type": "stream",
     "text": [
      "DONE....\n"
     ]
    }
   ],
   "source": [
    "print('DONE....')"
   ]
  },
  {
   "cell_type": "code",
   "execution_count": 117,
   "id": "d1e7f0ce",
   "metadata": {},
   "outputs": [],
   "source": [
    "reporte = ProfileReport(data, title = 'SB11_2012_1 Report')"
   ]
  },
  {
   "cell_type": "code",
   "execution_count": 118,
   "id": "ae3fc14b",
   "metadata": {},
   "outputs": [
    {
     "data": {
      "application/vnd.jupyter.widget-view+json": {
       "model_id": "5b9ad526720249cc9f94fd2b3da10923",
       "version_major": 2,
       "version_minor": 0
      },
      "text/plain": [
       "Summarize dataset:   0%|          | 0/5 [00:00<?, ?it/s]"
      ]
     },
     "metadata": {},
     "output_type": "display_data"
    },
    {
     "data": {
      "application/vnd.jupyter.widget-view+json": {
       "model_id": "15e88c980afa4439b9d404b896bee525",
       "version_major": 2,
       "version_minor": 0
      },
      "text/plain": [
       "Generate report structure:   0%|          | 0/1 [00:00<?, ?it/s]"
      ]
     },
     "metadata": {},
     "output_type": "display_data"
    },
    {
     "data": {
      "application/vnd.jupyter.widget-view+json": {
       "model_id": "0cc6081ab08b409699b1b05996a8cd59",
       "version_major": 2,
       "version_minor": 0
      },
      "text/plain": [
       "Render HTML:   0%|          | 0/1 [00:00<?, ?it/s]"
      ]
     },
     "metadata": {},
     "output_type": "display_data"
    },
    {
     "data": {
      "application/vnd.jupyter.widget-view+json": {
       "model_id": "3a529a54c58e41e5be427c445b66510e",
       "version_major": 2,
       "version_minor": 0
      },
      "text/plain": [
       "Export report to file:   0%|          | 0/1 [00:00<?, ?it/s]"
      ]
     },
     "metadata": {},
     "output_type": "display_data"
    }
   ],
   "source": [
    "reporte\n",
    "reporte.to_file('./docs/SB11_2012_1_Report.html')"
   ]
  },
  {
   "cell_type": "code",
   "execution_count": null,
   "id": "a1df884b",
   "metadata": {},
   "outputs": [],
   "source": [
    "# ************* To Mariadb"
   ]
  },
  {
   "cell_type": "code",
   "execution_count": null,
   "id": "49c05d33",
   "metadata": {},
   "outputs": [],
   "source": []
  },
  {
   "cell_type": "code",
   "execution_count": null,
   "id": "09045f59",
   "metadata": {},
   "outputs": [],
   "source": []
  }
 ],
 "metadata": {
  "kernelspec": {
   "display_name": "Python 3 (ipykernel)",
   "language": "python",
   "name": "python3"
  },
  "language_info": {
   "codemirror_mode": {
    "name": "ipython",
    "version": 3
   },
   "file_extension": ".py",
   "mimetype": "text/x-python",
   "name": "python",
   "nbconvert_exporter": "python",
   "pygments_lexer": "ipython3",
   "version": "3.10.6"
  }
 },
 "nbformat": 4,
 "nbformat_minor": 5
}
