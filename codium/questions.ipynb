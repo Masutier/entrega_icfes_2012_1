{
 "cells": [
  {
   "cell_type": "code",
   "execution_count": 1,
   "id": "e2d7591b",
   "metadata": {},
   "outputs": [],
   "source": [
    "import pandas as pd\n",
    "import numpy as np\n",
    "import math\n",
    "import dtale\n",
    "from datetime import datetime, timedelta"
   ]
  },
  {
   "cell_type": "code",
   "execution_count": 2,
   "id": "bdb9e92b",
   "metadata": {},
   "outputs": [],
   "source": [
    "data = pd.read_csv('./DMs/TH_SB11_2012_1.csv', low_memory=False)"
   ]
  },
  {
   "cell_type": "code",
   "execution_count": 3,
   "id": "66ee46b6",
   "metadata": {},
   "outputs": [
    {
     "data": {
      "text/plain": [
       "(45390, 14)"
      ]
     },
     "execution_count": 3,
     "metadata": {},
     "output_type": "execute_result"
    }
   ],
   "source": [
    "data.shape"
   ]
  },
  {
   "cell_type": "code",
   "execution_count": 9,
   "id": "e6871a08",
   "metadata": {},
   "outputs": [],
   "source": [
    "girls = (data['IDESTGEN'] == 1)\n",
    "gigi = girls == True\n",
    "countF = len(gigi.index)"
   ]
  },
  {
   "cell_type": "code",
   "execution_count": 11,
   "id": "b757a0cf",
   "metadata": {},
   "outputs": [
    {
     "data": {
      "text/plain": [
       "0         True\n",
       "1         True\n",
       "2         True\n",
       "3        False\n",
       "4         True\n",
       "         ...  \n",
       "45385     True\n",
       "45386    False\n",
       "45387    False\n",
       "45388     True\n",
       "45389    False\n",
       "Name: IDESTGEN, Length: 45390, dtype: bool"
      ]
     },
     "execution_count": 11,
     "metadata": {},
     "output_type": "execute_result"
    }
   ],
   "source": [
    "gigi"
   ]
  },
  {
   "cell_type": "code",
   "execution_count": null,
   "id": "0a962f8e",
   "metadata": {},
   "outputs": [],
   "source": []
  }
 ],
 "metadata": {
  "kernelspec": {
   "display_name": "Python 3 (ipykernel)",
   "language": "python",
   "name": "python3"
  },
  "language_info": {
   "codemirror_mode": {
    "name": "ipython",
    "version": 3
   },
   "file_extension": ".py",
   "mimetype": "text/x-python",
   "name": "python",
   "nbconvert_exporter": "python",
   "pygments_lexer": "ipython3",
   "version": "3.10.6"
  }
 },
 "nbformat": 4,
 "nbformat_minor": 5
}
