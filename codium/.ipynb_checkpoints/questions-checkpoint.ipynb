{
 "cells": [
  {
   "cell_type": "code",
   "execution_count": 34,
   "id": "e2d7591b",
   "metadata": {},
   "outputs": [],
   "source": [
    "import pandas as pd\n",
    "import numpy as np\n",
    "import math\n",
    "import dtale\n",
    "from datetime import datetime, timedelta"
   ]
  },
  {
   "cell_type": "code",
   "execution_count": 35,
   "id": "bdb9e92b",
   "metadata": {},
   "outputs": [],
   "source": [
    "data = pd.read_csv('./DMs/TH_SB11_2012_1.csv', low_memory=False)"
   ]
  },
  {
   "cell_type": "code",
   "execution_count": 36,
   "id": "66ee46b6",
   "metadata": {},
   "outputs": [
    {
     "data": {
      "text/plain": [
       "(45390, 14)"
      ]
     },
     "execution_count": 36,
     "metadata": {},
     "output_type": "execute_result"
    }
   ],
   "source": [
    "data.shape"
   ]
  },
  {
   "cell_type": "code",
   "execution_count": 38,
   "id": "6acd6988",
   "metadata": {},
   "outputs": [
    {
     "data": {
      "text/plain": [
       "23"
      ]
     },
     "execution_count": 38,
     "metadata": {},
     "output_type": "execute_result"
    }
   ],
   "source": [
    "girls = data[(data[\"IDESTGEN\"] == 1) & (data[\"IDDESMATH\"] == 7) & (data[\"IDPUESTO\"] == 1)]\n",
    "count1 = len(girls.index)\n",
    "count1"
   ]
  },
  {
   "cell_type": "code",
   "execution_count": 39,
   "id": "2f4c3759",
   "metadata": {},
   "outputs": [
    {
     "data": {
      "text/plain": [
       "39"
      ]
     },
     "execution_count": 39,
     "metadata": {},
     "output_type": "execute_result"
    }
   ],
   "source": [
    "guys = data[(data[\"IDESTGEN\"] == 2) & (data[\"IDDESMATH\"] == 7) & (data[\"IDPUESTO\"] == 1)]\n",
    "count1 = len(guys.index)\n",
    "count1"
   ]
  },
  {
   "cell_type": "code",
   "execution_count": 40,
   "id": "1ea9f5e8",
   "metadata": {},
   "outputs": [],
   "source": [
    "data_sub1 = data[(data[\"IDDESMATH\"] == 7) & (data[\"IDPUESTO\"] == 1)]"
   ]
  },
  {
   "cell_type": "code",
   "execution_count": 41,
   "id": "a3fc397f",
   "metadata": {},
   "outputs": [],
   "source": [
    "data_sub1.to_csv('./DMs/TH_SB11_2012_1best.csv', index = False)"
   ]
  },
  {
   "cell_type": "code",
   "execution_count": 42,
   "id": "6ebb23c2",
   "metadata": {},
   "outputs": [],
   "source": [
    "databest = pd.read_csv('./DMs/TH_SB11_2012_1best.csv', low_memory=False)"
   ]
  },
  {
   "cell_type": "code",
   "execution_count": 45,
   "id": "36a468e3",
   "metadata": {},
   "outputs": [
    {
     "data": {
      "text/html": [
       "<div>\n",
       "<style scoped>\n",
       "    .dataframe tbody tr th:only-of-type {\n",
       "        vertical-align: middle;\n",
       "    }\n",
       "\n",
       "    .dataframe tbody tr th {\n",
       "        vertical-align: top;\n",
       "    }\n",
       "\n",
       "    .dataframe thead th {\n",
       "        text-align: right;\n",
       "    }\n",
       "</style>\n",
       "<table border=\"1\" class=\"dataframe\">\n",
       "  <thead>\n",
       "    <tr style=\"text-align: right;\">\n",
       "      <th></th>\n",
       "      <th>IDTDOC</th>\n",
       "      <th>IDEPAIS</th>\n",
       "      <th>IDESTGEN</th>\n",
       "      <th>EDAD</th>\n",
       "      <th>IDCODEMUNI</th>\n",
       "      <th>IDCODEDEPTO</th>\n",
       "      <th>IDCOLCALEN</th>\n",
       "      <th>IDCOLGEN</th>\n",
       "      <th>IDCOLNATU</th>\n",
       "      <th>IDCOLBILIN</th>\n",
       "      <th>IDCOLCARAC</th>\n",
       "      <th>IDDESING</th>\n",
       "      <th>IDDESMATH</th>\n",
       "      <th>IDPUESTO</th>\n",
       "    </tr>\n",
       "  </thead>\n",
       "  <tbody>\n",
       "    <tr>\n",
       "      <th>0</th>\n",
       "      <td>1</td>\n",
       "      <td>1</td>\n",
       "      <td>2</td>\n",
       "      <td>26</td>\n",
       "      <td>76111.0</td>\n",
       "      <td>76.0</td>\n",
       "      <td>2</td>\n",
       "      <td>1</td>\n",
       "      <td>2</td>\n",
       "      <td>0.0</td>\n",
       "      <td>3</td>\n",
       "      <td>4</td>\n",
       "      <td>7</td>\n",
       "      <td>1</td>\n",
       "    </tr>\n",
       "    <tr>\n",
       "      <th>1</th>\n",
       "      <td>1</td>\n",
       "      <td>1</td>\n",
       "      <td>1</td>\n",
       "      <td>26</td>\n",
       "      <td>52001.0</td>\n",
       "      <td>52.0</td>\n",
       "      <td>1</td>\n",
       "      <td>1</td>\n",
       "      <td>1</td>\n",
       "      <td>0.0</td>\n",
       "      <td>1</td>\n",
       "      <td>2</td>\n",
       "      <td>7</td>\n",
       "      <td>1</td>\n",
       "    </tr>\n",
       "    <tr>\n",
       "      <th>2</th>\n",
       "      <td>3</td>\n",
       "      <td>1</td>\n",
       "      <td>2</td>\n",
       "      <td>18</td>\n",
       "      <td>52678.0</td>\n",
       "      <td>52.0</td>\n",
       "      <td>1</td>\n",
       "      <td>1</td>\n",
       "      <td>1</td>\n",
       "      <td>0.0</td>\n",
       "      <td>1</td>\n",
       "      <td>3</td>\n",
       "      <td>7</td>\n",
       "      <td>1</td>\n",
       "    </tr>\n",
       "    <tr>\n",
       "      <th>3</th>\n",
       "      <td>1</td>\n",
       "      <td>1</td>\n",
       "      <td>1</td>\n",
       "      <td>20</td>\n",
       "      <td>41668.0</td>\n",
       "      <td>41.0</td>\n",
       "      <td>1</td>\n",
       "      <td>1</td>\n",
       "      <td>1</td>\n",
       "      <td>0.0</td>\n",
       "      <td>1</td>\n",
       "      <td>4</td>\n",
       "      <td>7</td>\n",
       "      <td>1</td>\n",
       "    </tr>\n",
       "    <tr>\n",
       "      <th>4</th>\n",
       "      <td>1</td>\n",
       "      <td>1</td>\n",
       "      <td>2</td>\n",
       "      <td>21</td>\n",
       "      <td>68001.0</td>\n",
       "      <td>68.0</td>\n",
       "      <td>1</td>\n",
       "      <td>1</td>\n",
       "      <td>1</td>\n",
       "      <td>0.0</td>\n",
       "      <td>3</td>\n",
       "      <td>5</td>\n",
       "      <td>7</td>\n",
       "      <td>1</td>\n",
       "    </tr>\n",
       "    <tr>\n",
       "      <th>...</th>\n",
       "      <td>...</td>\n",
       "      <td>...</td>\n",
       "      <td>...</td>\n",
       "      <td>...</td>\n",
       "      <td>...</td>\n",
       "      <td>...</td>\n",
       "      <td>...</td>\n",
       "      <td>...</td>\n",
       "      <td>...</td>\n",
       "      <td>...</td>\n",
       "      <td>...</td>\n",
       "      <td>...</td>\n",
       "      <td>...</td>\n",
       "      <td>...</td>\n",
       "    </tr>\n",
       "    <tr>\n",
       "      <th>57</th>\n",
       "      <td>1</td>\n",
       "      <td>1</td>\n",
       "      <td>1</td>\n",
       "      <td>18</td>\n",
       "      <td>41001.0</td>\n",
       "      <td>41.0</td>\n",
       "      <td>1</td>\n",
       "      <td>1</td>\n",
       "      <td>1</td>\n",
       "      <td>0.0</td>\n",
       "      <td>1</td>\n",
       "      <td>4</td>\n",
       "      <td>7</td>\n",
       "      <td>1</td>\n",
       "    </tr>\n",
       "    <tr>\n",
       "      <th>58</th>\n",
       "      <td>1</td>\n",
       "      <td>1</td>\n",
       "      <td>2</td>\n",
       "      <td>23</td>\n",
       "      <td>11001.0</td>\n",
       "      <td>11.0</td>\n",
       "      <td>3</td>\n",
       "      <td>1</td>\n",
       "      <td>2</td>\n",
       "      <td>0.0</td>\n",
       "      <td>5</td>\n",
       "      <td>4</td>\n",
       "      <td>7</td>\n",
       "      <td>1</td>\n",
       "    </tr>\n",
       "    <tr>\n",
       "      <th>59</th>\n",
       "      <td>1</td>\n",
       "      <td>1</td>\n",
       "      <td>1</td>\n",
       "      <td>20</td>\n",
       "      <td>52001.0</td>\n",
       "      <td>52.0</td>\n",
       "      <td>1</td>\n",
       "      <td>1</td>\n",
       "      <td>1</td>\n",
       "      <td>0.0</td>\n",
       "      <td>1</td>\n",
       "      <td>3</td>\n",
       "      <td>7</td>\n",
       "      <td>1</td>\n",
       "    </tr>\n",
       "    <tr>\n",
       "      <th>60</th>\n",
       "      <td>1</td>\n",
       "      <td>1</td>\n",
       "      <td>2</td>\n",
       "      <td>26</td>\n",
       "      <td>52001.0</td>\n",
       "      <td>52.0</td>\n",
       "      <td>3</td>\n",
       "      <td>1</td>\n",
       "      <td>2</td>\n",
       "      <td>0.0</td>\n",
       "      <td>5</td>\n",
       "      <td>4</td>\n",
       "      <td>7</td>\n",
       "      <td>1</td>\n",
       "    </tr>\n",
       "    <tr>\n",
       "      <th>61</th>\n",
       "      <td>1</td>\n",
       "      <td>1</td>\n",
       "      <td>2</td>\n",
       "      <td>24</td>\n",
       "      <td>11001.0</td>\n",
       "      <td>11.0</td>\n",
       "      <td>3</td>\n",
       "      <td>1</td>\n",
       "      <td>2</td>\n",
       "      <td>0.0</td>\n",
       "      <td>5</td>\n",
       "      <td>6</td>\n",
       "      <td>7</td>\n",
       "      <td>1</td>\n",
       "    </tr>\n",
       "  </tbody>\n",
       "</table>\n",
       "<p>62 rows × 14 columns</p>\n",
       "</div>"
      ],
      "text/plain": [
       "    IDTDOC  IDEPAIS  IDESTGEN  EDAD  IDCODEMUNI  IDCODEDEPTO  IDCOLCALEN  \\\n",
       "0        1        1         2    26     76111.0         76.0           2   \n",
       "1        1        1         1    26     52001.0         52.0           1   \n",
       "2        3        1         2    18     52678.0         52.0           1   \n",
       "3        1        1         1    20     41668.0         41.0           1   \n",
       "4        1        1         2    21     68001.0         68.0           1   \n",
       "..     ...      ...       ...   ...         ...          ...         ...   \n",
       "57       1        1         1    18     41001.0         41.0           1   \n",
       "58       1        1         2    23     11001.0         11.0           3   \n",
       "59       1        1         1    20     52001.0         52.0           1   \n",
       "60       1        1         2    26     52001.0         52.0           3   \n",
       "61       1        1         2    24     11001.0         11.0           3   \n",
       "\n",
       "    IDCOLGEN  IDCOLNATU  IDCOLBILIN  IDCOLCARAC  IDDESING  IDDESMATH  IDPUESTO  \n",
       "0          1          2         0.0           3         4          7         1  \n",
       "1          1          1         0.0           1         2          7         1  \n",
       "2          1          1         0.0           1         3          7         1  \n",
       "3          1          1         0.0           1         4          7         1  \n",
       "4          1          1         0.0           3         5          7         1  \n",
       "..       ...        ...         ...         ...       ...        ...       ...  \n",
       "57         1          1         0.0           1         4          7         1  \n",
       "58         1          2         0.0           5         4          7         1  \n",
       "59         1          1         0.0           1         3          7         1  \n",
       "60         1          2         0.0           5         4          7         1  \n",
       "61         1          2         0.0           5         6          7         1  \n",
       "\n",
       "[62 rows x 14 columns]"
      ]
     },
     "execution_count": 45,
     "metadata": {},
     "output_type": "execute_result"
    }
   ],
   "source": [
    "databest"
   ]
  },
  {
   "cell_type": "code",
   "execution_count": 94,
   "id": "169d5d8e",
   "metadata": {},
   "outputs": [],
   "source": [
    "notdup = []\n",
    "sipdup = []\n",
    "total = []\n",
    "incity = databest['IDCODEMUNI']\n",
    "for city in incity:\n",
    "    if city not in notdup:\n",
    "        notdup.append(city)\n",
    "        sipdup.append(city)\n",
    "    else:\n",
    "        sipdup.append(city)\n",
    "\n",
    "for sip in notdup:\n",
    "    elm_count = sipdup.count(sip)\n",
    "    total += [(elm_count, sip)]\n"
   ]
  },
  {
   "cell_type": "code",
   "execution_count": 83,
   "id": "7ba11f19",
   "metadata": {},
   "outputs": [
    {
     "data": {
      "text/plain": [
       "[(1, 15238.0),\n",
       " (1, 41396.0),\n",
       " (1, 41524.0),\n",
       " (1, 41551.0),\n",
       " (1, 41668.0),\n",
       " (1, 52019.0),\n",
       " (1, 52022.0),\n",
       " (1, 52352.0),\n",
       " (1, 52356.0),\n",
       " (1, 52683.0),\n",
       " (1, 52685.0),\n",
       " (1, 52693.0),\n",
       " (1, 54001.0),\n",
       " (1, 76111.0),\n",
       " (1, 76126.0),\n",
       " (1, 76364.0),\n",
       " (1, 76400.0),\n",
       " (1, 81736.0),\n",
       " (2, 41001.0),\n",
       " (2, 52678.0),\n",
       " (2, 73001.0),\n",
       " (2, 76520.0),\n",
       " (3, 19001.0),\n",
       " (4, 68001.0),\n",
       " (5, 17001.0),\n",
       " (5, 52001.0),\n",
       " (8, 76001.0),\n",
       " (11, 11001.0)]"
      ]
     },
     "execution_count": 83,
     "metadata": {},
     "output_type": "execute_result"
    }
   ],
   "source": [
    "total.sort()\n",
    "total"
   ]
  },
  {
   "cell_type": "code",
   "execution_count": 93,
   "id": "9b481b86",
   "metadata": {},
   "outputs": [
    {
     "data": {
      "text/plain": [
       "(11, 11001.0)"
      ]
     },
     "execution_count": 93,
     "metadata": {},
     "output_type": "execute_result"
    }
   ],
   "source": [
    "total[-1][0], total[-1][1]"
   ]
  },
  {
   "cell_type": "code",
   "execution_count": 100,
   "id": "222a5786",
   "metadata": {},
   "outputs": [
    {
     "name": "stdout",
     "output_type": "stream",
     "text": [
      "La mayor edad es de 57 y la menor es de 18\n"
     ]
    }
   ],
   "source": [
    "edad =  data[(data[\"IDESTGEN\"] == 2) & (data[\"IDDESMATH\"] == 7) & (data[\"IDPUESTO\"] == 1)]\n",
    "print(\"La mayor edad es de\", max(edad['EDAD']), \"y la menor es de\", min(edad['EDAD']))"
   ]
  },
  {
   "cell_type": "code",
   "execution_count": null,
   "id": "764167d2",
   "metadata": {},
   "outputs": [],
   "source": []
  }
 ],
 "metadata": {
  "kernelspec": {
   "display_name": "Python 3 (ipykernel)",
   "language": "python",
   "name": "python3"
  },
  "language_info": {
   "codemirror_mode": {
    "name": "ipython",
    "version": 3
   },
   "file_extension": ".py",
   "mimetype": "text/x-python",
   "name": "python",
   "nbconvert_exporter": "python",
   "pygments_lexer": "ipython3",
   "version": "3.10.6"
  }
 },
 "nbformat": 4,
 "nbformat_minor": 5
}
