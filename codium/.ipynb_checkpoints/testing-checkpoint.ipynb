{
 "cells": [
  {
   "cell_type": "code",
   "execution_count": 26,
   "id": "f2f51f1f",
   "metadata": {},
   "outputs": [],
   "source": [
    "import pandas as pd\n",
    "import numpy as np\n",
    "import math\n",
    "import dtale"
   ]
  },
  {
   "cell_type": "code",
   "execution_count": 27,
   "id": "6103f4cc",
   "metadata": {},
   "outputs": [],
   "source": [
    "data = pd.read_csv('./DMs/TH_SB11_2012_1_test.csv', low_memory=False)"
   ]
  },
  {
   "cell_type": "code",
   "execution_count": 28,
   "id": "72c61a3f",
   "metadata": {},
   "outputs": [
    {
     "data": {
      "text/plain": [
       "(45390, 22)"
      ]
     },
     "execution_count": 28,
     "metadata": {},
     "output_type": "execute_result"
    }
   ],
   "source": [
    "data.shape"
   ]
  },
  {
   "cell_type": "code",
   "execution_count": 29,
   "id": "a4afa7b1",
   "metadata": {},
   "outputs": [],
   "source": [
    "data['COLE_CARACTER'] = data.COLE_CARACTER.fillna('X')\n",
    "data.to_csv('./DMs/TH_SB11_2012_1_test.csv', index = False)"
   ]
  },
  {
   "cell_type": "code",
   "execution_count": 30,
   "id": "5fd5e45c",
   "metadata": {},
   "outputs": [
    {
     "ename": "ValueError",
     "evalue": "The truth value of a Series is ambiguous. Use a.empty, a.bool(), a.item(), a.any() or a.all().",
     "output_type": "error",
     "traceback": [
      "\u001b[0;31m---------------------------------------------------------------------------\u001b[0m",
      "\u001b[0;31mValueError\u001b[0m                                Traceback (most recent call last)",
      "\u001b[0;32m/tmp/ipykernel_6586/2909859614.py\u001b[0m in \u001b[0;36m<module>\u001b[0;34m\u001b[0m\n\u001b[1;32m      1\u001b[0m \u001b[0mdata\u001b[0m \u001b[0;34m=\u001b[0m \u001b[0mpd\u001b[0m\u001b[0;34m.\u001b[0m\u001b[0mread_csv\u001b[0m\u001b[0;34m(\u001b[0m\u001b[0;34m'./DMs/TH_SB11_2012_1_test.csv'\u001b[0m\u001b[0;34m,\u001b[0m \u001b[0mlow_memory\u001b[0m\u001b[0;34m=\u001b[0m\u001b[0;32mFalse\u001b[0m\u001b[0;34m)\u001b[0m\u001b[0;34m\u001b[0m\u001b[0;34m\u001b[0m\u001b[0m\n\u001b[1;32m      2\u001b[0m \u001b[0;34m\u001b[0m\u001b[0m\n\u001b[0;32m----> 3\u001b[0;31m \u001b[0mboolean_condition\u001b[0m \u001b[0;34m=\u001b[0m \u001b[0mdata\u001b[0m\u001b[0;34m.\u001b[0m\u001b[0mCOLE_NOMBRE_SEDE\u001b[0m \u001b[0;34m==\u001b[0m \u001b[0;34m\"VALIDACION BACHILLERATO ICFES\"\u001b[0m \u001b[0;32mand\u001b[0m \u001b[0mdata\u001b[0m\u001b[0;34m.\u001b[0m\u001b[0mCOLE_CARACTER\u001b[0m \u001b[0;34m==\u001b[0m \u001b[0;34m\"X\"\u001b[0m\u001b[0;34m\u001b[0m\u001b[0;34m\u001b[0m\u001b[0m\n\u001b[0m\u001b[1;32m      4\u001b[0m \u001b[0mcolumn_name\u001b[0m \u001b[0;34m=\u001b[0m \u001b[0;34m\"COLE_CARACTER\"\u001b[0m\u001b[0;34m\u001b[0m\u001b[0;34m\u001b[0m\u001b[0m\n\u001b[1;32m      5\u001b[0m \u001b[0mnew_value\u001b[0m \u001b[0;34m=\u001b[0m \u001b[0;34m\"DESCONOCIDO\"\u001b[0m\u001b[0;34m\u001b[0m\u001b[0;34m\u001b[0m\u001b[0m\n",
      "\u001b[0;32m~/.local/lib/python3.10/site-packages/pandas/core/generic.py\u001b[0m in \u001b[0;36m__nonzero__\u001b[0;34m(self)\u001b[0m\n\u001b[1;32m   1525\u001b[0m     \u001b[0;34m@\u001b[0m\u001b[0mfinal\u001b[0m\u001b[0;34m\u001b[0m\u001b[0;34m\u001b[0m\u001b[0m\n\u001b[1;32m   1526\u001b[0m     \u001b[0;32mdef\u001b[0m \u001b[0m__nonzero__\u001b[0m\u001b[0;34m(\u001b[0m\u001b[0mself\u001b[0m\u001b[0;34m)\u001b[0m \u001b[0;34m->\u001b[0m \u001b[0mNoReturn\u001b[0m\u001b[0;34m:\u001b[0m\u001b[0;34m\u001b[0m\u001b[0;34m\u001b[0m\u001b[0m\n\u001b[0;32m-> 1527\u001b[0;31m         raise ValueError(\n\u001b[0m\u001b[1;32m   1528\u001b[0m             \u001b[0;34mf\"The truth value of a {type(self).__name__} is ambiguous. \"\u001b[0m\u001b[0;34m\u001b[0m\u001b[0;34m\u001b[0m\u001b[0m\n\u001b[1;32m   1529\u001b[0m             \u001b[0;34m\"Use a.empty, a.bool(), a.item(), a.any() or a.all().\"\u001b[0m\u001b[0;34m\u001b[0m\u001b[0;34m\u001b[0m\u001b[0m\n",
      "\u001b[0;31mValueError\u001b[0m: The truth value of a Series is ambiguous. Use a.empty, a.bool(), a.item(), a.any() or a.all()."
     ]
    }
   ],
   "source": [
    "data = pd.read_csv('./DMs/TH_SB11_2012_1_test.csv', low_memory=False)\n",
    "\n",
    "boolean_condition = data.COLE_NOMBRE_SEDE == \"VALIDACION BACHILLERATO ICFES\" and data.COLE_CARACTER == \"X\"\n",
    "column_name = \"COLE_CARACTER\"\n",
    "new_value = \"DESCONOCIDO\"\n",
    "\n",
    "data.loc[boolean_condition, column_name] = new_value\n",
    "\n",
    "\n",
    "data"
   ]
  },
  {
   "cell_type": "code",
   "execution_count": null,
   "id": "4143952a",
   "metadata": {},
   "outputs": [],
   "source": []
  },
  {
   "cell_type": "code",
   "execution_count": 7,
   "id": "548dedf0",
   "metadata": {},
   "outputs": [
    {
     "name": "stderr",
     "output_type": "stream",
     "text": [
      "/home/gabriel/.local/lib/python3.10/site-packages/dtale/views.py:756: FutureWarning:\n",
      "\n",
      "['ESTU_PAIS_RESIDE', 'FECHA_ANO', 'ESTU_RESIDE_MCPIO', 'ESTU_RESIDE_DEPTO', 'COLE_CALENDARIO', 'COLE_GENERO', 'COLE_NATURALEZA', 'COLE_CARACTER', 'DESEMP_INGLES'] did not aggregate successfully. If any error is raised this will raise in a future version of pandas. Drop these columns/ops to avoid this warning.\n",
      "\n"
     ]
    },
    {
     "data": {
      "text/html": [
       "\n",
       "        <iframe\n",
       "            width=\"100%\"\n",
       "            height=\"475\"\n",
       "            src=\"http://gabriel:40000/dtale/iframe/3\"\n",
       "            frameborder=\"0\"\n",
       "            allowfullscreen\n",
       "            \n",
       "        ></iframe>\n",
       "        "
      ],
      "text/plain": [
       "<IPython.lib.display.IFrame at 0x7f1153c9ef20>"
      ]
     },
     "metadata": {},
     "output_type": "display_data"
    },
    {
     "data": {
      "text/plain": []
     },
     "execution_count": 7,
     "metadata": {},
     "output_type": "execute_result"
    },
    {
     "name": "stderr",
     "output_type": "stream",
     "text": [
      "/home/gabriel/.local/lib/python3.10/site-packages/dtale/views.py:2010: FutureWarning:\n",
      "\n",
      "The default value of regex will change from True to False in a future version.\n",
      "\n"
     ]
    }
   ],
   "source": [
    "d = dtale.show(data)\n",
    "d"
   ]
  },
  {
   "cell_type": "code",
   "execution_count": 3,
   "id": "ce51fbf0",
   "metadata": {},
   "outputs": [
    {
     "name": "stdout",
     "output_type": "stream",
     "text": [
      "0\n"
     ]
    }
   ],
   "source": [
    "dataX = data[data[\"COLE_NATURALEZA\"] == 'VALIDACION BACHILLERATO ICFES']\n",
    "nans = len(dataX.index)\n",
    "print(nans)"
   ]
  },
  {
   "cell_type": "code",
   "execution_count": 4,
   "id": "555799b9",
   "metadata": {},
   "outputs": [],
   "source": [
    "data['COLE_BILINGUE'] = data.COLE_BILINGUE.fillna('X')"
   ]
  },
  {
   "cell_type": "code",
   "execution_count": 5,
   "id": "88321937",
   "metadata": {},
   "outputs": [
    {
     "name": "stdout",
     "output_type": "stream",
     "text": [
      "11372\n"
     ]
    }
   ],
   "source": [
    "dataX = data[data[\"COLE_BILINGUE\"] == 'X']\n",
    "nans = len(dataX.index)\n",
    "print(nans)"
   ]
  },
  {
   "cell_type": "code",
   "execution_count": 6,
   "id": "31d736dc",
   "metadata": {},
   "outputs": [
    {
     "data": {
      "text/plain": [
       "(11372, 27)"
      ]
     },
     "execution_count": 6,
     "metadata": {},
     "output_type": "execute_result"
    }
   ],
   "source": [
    "dataX.shape"
   ]
  },
  {
   "cell_type": "code",
   "execution_count": 7,
   "id": "e1e03375",
   "metadata": {},
   "outputs": [
    {
     "name": "stderr",
     "output_type": "stream",
     "text": [
      "/tmp/ipykernel_16918/2831989657.py:1: SettingWithCopyWarning: \n",
      "A value is trying to be set on a copy of a slice from a DataFrame.\n",
      "Try using .loc[row_indexer,col_indexer] = value instead\n",
      "\n",
      "See the caveats in the documentation: https://pandas.pydata.org/pandas-docs/stable/user_guide/indexing.html#returning-a-view-versus-a-copy\n",
      "  dataX['aux'] = 0\n"
     ]
    }
   ],
   "source": [
    "dataX['aux'] = 0"
   ]
  },
  {
   "cell_type": "code",
   "execution_count": 8,
   "id": "7657f784",
   "metadata": {},
   "outputs": [
    {
     "name": "stdout",
     "output_type": "stream",
     "text": [
      "34018\n"
     ]
    }
   ],
   "source": [
    "countX = len(dataX.index)\n",
    "count = len(data.index) - countX\n",
    "print(count)"
   ]
  },
  {
   "cell_type": "code",
   "execution_count": 9,
   "id": "ae4a3703",
   "metadata": {},
   "outputs": [
    {
     "data": {
      "text/plain": [
       "(33464, 27)"
      ]
     },
     "execution_count": 9,
     "metadata": {},
     "output_type": "execute_result"
    }
   ],
   "source": [
    "data0 = data[data[\"COLE_BILINGUE\"] == 0]\n",
    "count0 = len(data0.index)\n",
    "data0.shape"
   ]
  },
  {
   "cell_type": "code",
   "execution_count": 10,
   "id": "5860e808",
   "metadata": {},
   "outputs": [
    {
     "data": {
      "text/plain": [
       "(554, 27)"
      ]
     },
     "execution_count": 10,
     "metadata": {},
     "output_type": "execute_result"
    }
   ],
   "source": [
    "data1 = data[data[\"COLE_BILINGUE\"] == 1]\n",
    "count1 = len(data1.index)\n",
    "data1.shape"
   ]
  },
  {
   "cell_type": "code",
   "execution_count": 11,
   "id": "b8386722",
   "metadata": {},
   "outputs": [
    {
     "name": "stdout",
     "output_type": "stream",
     "text": [
      "% 0 98 ==> tot 11145\n",
      "% 1 2 ==> tot 227\n"
     ]
    }
   ],
   "source": [
    "p0 = round((count0 * 100) / count)\n",
    "change0 = round((nans * p0) / 100)\n",
    "print(\"% 0\", p0, \"==> tot\", change0)\n",
    "p1 = round((count1 * 100) / count)\n",
    "change1 = round((nans * p1) / 100)\n",
    "print(\"% 1\", p1, \"==> tot\", change1)"
   ]
  },
  {
   "cell_type": "code",
   "execution_count": 12,
   "id": "dc88ff24",
   "metadata": {},
   "outputs": [
    {
     "name": "stderr",
     "output_type": "stream",
     "text": [
      "/tmp/ipykernel_16918/1613896215.py:1: SettingWithCopyWarning: \n",
      "A value is trying to be set on a copy of a slice from a DataFrame.\n",
      "Try using .loc[row_indexer,col_indexer] = value instead\n",
      "\n",
      "See the caveats in the documentation: https://pandas.pydata.org/pandas-docs/stable/user_guide/indexing.html#returning-a-view-versus-a-copy\n",
      "  dataX['aux'] = range(1, nans + 1)\n"
     ]
    },
    {
     "data": {
      "text/plain": [
       "0            1\n",
       "1            2\n",
       "2            3\n",
       "3            4\n",
       "4            5\n",
       "         ...  \n",
       "45329    11368\n",
       "45386    11369\n",
       "45387    11370\n",
       "45388    11371\n",
       "45389    11372\n",
       "Name: aux, Length: 11372, dtype: int64"
      ]
     },
     "execution_count": 12,
     "metadata": {},
     "output_type": "execute_result"
    }
   ],
   "source": [
    "dataX['aux'] = range(1, nans + 1)\n",
    "dataX['aux']"
   ]
  },
  {
   "cell_type": "code",
   "execution_count": 13,
   "id": "1024aca5",
   "metadata": {},
   "outputs": [],
   "source": [
    "for i in range(1,int(change0) + 1):\n",
    "    dataX.loc[dataX['aux'] == i, 'COLE_BILINGUE'] = 0"
   ]
  },
  {
   "cell_type": "code",
   "execution_count": 14,
   "id": "f7d2d66e",
   "metadata": {},
   "outputs": [],
   "source": [
    "for i in range(int(change0), int(countX) + 1):\n",
    "    dataX.loc[dataX['aux'] == i, 'COLE_BILINGUE'] = 1"
   ]
  },
  {
   "cell_type": "code",
   "execution_count": 15,
   "id": "e8291a06",
   "metadata": {},
   "outputs": [],
   "source": [
    "data = data.drop(data[data['COLE_BILINGUE'] == \"X\"].index)"
   ]
  },
  {
   "cell_type": "code",
   "execution_count": 16,
   "id": "7209bcaf",
   "metadata": {},
   "outputs": [],
   "source": [
    "data = pd.concat([data, dataX])"
   ]
  },
  {
   "cell_type": "code",
   "execution_count": 17,
   "id": "26726f28",
   "metadata": {},
   "outputs": [],
   "source": [
    "data.to_csv('./DMs/TH_SB11_2012_1.csv', index = False)"
   ]
  },
  {
   "cell_type": "code",
   "execution_count": null,
   "id": "0063fbc0",
   "metadata": {},
   "outputs": [],
   "source": []
  }
 ],
 "metadata": {
  "kernelspec": {
   "display_name": "Python 3 (ipykernel)",
   "language": "python",
   "name": "python3"
  },
  "language_info": {
   "codemirror_mode": {
    "name": "ipython",
    "version": 3
   },
   "file_extension": ".py",
   "mimetype": "text/x-python",
   "name": "python",
   "nbconvert_exporter": "python",
   "pygments_lexer": "ipython3",
   "version": "3.10.6"
  }
 },
 "nbformat": 4,
 "nbformat_minor": 5
}
